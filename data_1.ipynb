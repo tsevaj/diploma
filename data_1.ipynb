{
 "cells": [
  {
   "cell_type": "code",
   "execution_count": 13,
   "metadata": {},
   "outputs": [
    {
     "name": "stdout",
     "output_type": "stream",
     "text": [
      "<class 'pandas.core.frame.DataFrame'>\n",
      "RangeIndex: 3892 entries, 0 to 3891\n",
      "Data columns (total 28 columns):\n",
      " #   Column                         Non-Null Count  Dtype  \n",
      "---  ------                         --------------  -----  \n",
      " 0   Date                           3892 non-null   object \n",
      " 1   USDCLP Curncy                  3632 non-null   float64\n",
      " 2   CHN1W BGN Curncy               3687 non-null   float64\n",
      " 3   EURUSD Curncy                  3892 non-null   float64\n",
      " 4   GBPUSD Curncy                  3892 non-null   float64\n",
      " 5   USDJPY Curncy                  3892 non-null   float64\n",
      " 6   USDMXN Curncy                  3891 non-null   float64\n",
      " 7   USGG2YR Index                  3892 non-null   float64\n",
      " 8   USGG10YR Index                 3892 non-null   float64\n",
      " 9   CO1 Comdty                     3851 non-null   float64\n",
      " 10  CU1 Comdty                     3620 non-null   float64\n",
      " 11  XAU Curncy                     3885 non-null   float64\n",
      " 12  CHNI3M Curncy                  3781 non-null   float64\n",
      " 13  VIX Index                      3757 non-null   float64\n",
      " 14  ES1 Index                      3764 non-null   float64\n",
      " 15  NQ1 Index                      3765 non-null   float64\n",
      " 16  IPSA Index                     3714 non-null   float64\n",
      " 17  IBOV Index                     3688 non-null   float64\n",
      " 18  DXY Curncy                     3885 non-null   float64\n",
      " 19  CHILE CDS USD SR 5Y D14 Corp   3881 non-null   float64\n",
      " 20  BRAZIL CDS USD SR 5Y D14 Corp  3887 non-null   float64\n",
      " 21  MEX CDS USD SR 5Y D14 Corp     3885 non-null   float64\n",
      " 22  EURUSDV1M BGN Curncy           3892 non-null   float64\n",
      " 23  W 1 COMB Comdty                3761 non-null   float64\n",
      " 24  C 1 COMB Comdty                3761 non-null   float64\n",
      " 25  USGGBE2 Index                  3888 non-null   float64\n",
      " 26  USGGBE10 Index                 3890 non-null   float64\n",
      " 27  CESIUSD Index                  3824 non-null   float64\n",
      "dtypes: float64(27), object(1)\n",
      "memory usage: 851.5+ KB\n"
     ]
    },
    {
     "data": {
      "text/plain": [
       "None"
      ]
     },
     "metadata": {},
     "output_type": "display_data"
    }
   ],
   "source": [
    "#python 3.8\n",
    "#импорт библиотек\n",
    "import pandas as pd\n",
    "\n",
    "#импорт данных, сделать циклом\n",
    "data_brl = pd.read_csv('brl/all_data.csv', sep=',')\n",
    "\n",
    "display(data_clp.info())"
   ]
  },
  {
   "cell_type": "code",
   "execution_count": 12,
   "metadata": {},
   "outputs": [
    {
     "name": "stdout",
     "output_type": "stream",
     "text": [
      "<class 'pandas.core.frame.DataFrame'>\n",
      "RangeIndex: 3892 entries, 0 to 3891\n",
      "Data columns (total 27 columns):\n",
      " #   Column                         Non-Null Count  Dtype         \n",
      "---  ------                         --------------  -----         \n",
      " 0   Date                           3892 non-null   datetime64[ns]\n",
      " 1   USDBRL Curncy                  3756 non-null   float64       \n",
      " 2   BCN1W BGN Curncy               3567 non-null   float64       \n",
      " 3   EURUSD Curncy                  3892 non-null   float64       \n",
      " 4   GBPUSD Curncy                  3892 non-null   float64       \n",
      " 5   USDJPY Curncy                  3892 non-null   float64       \n",
      " 6   USDMXN Curncy                  3891 non-null   float64       \n",
      " 7   USOSFR2 Curncy                 3879 non-null   float64       \n",
      " 8   USOSFR10 Curncy                3851 non-null   float64       \n",
      " 9   CO1 Comdty                     3851 non-null   float64       \n",
      " 10  CU1 Comdty                     3620 non-null   float64       \n",
      " 11  XAU Curncy                     3885 non-null   float64       \n",
      " 12  BCNI3M Curncy                  3819 non-null   float64       \n",
      " 13  VIX Index                      3757 non-null   float64       \n",
      " 14  ES1 Index                      3764 non-null   float64       \n",
      " 15  NQ1 Index                      3765 non-null   float64       \n",
      " 16  IBOV Index                     3688 non-null   float64       \n",
      " 17  DXY Curncy                     3885 non-null   float64       \n",
      " 18  BRAZIL CDS USD SR 5Y D14 Corp  3887 non-null   float64       \n",
      " 19  MEX CDS USD SR 5Y D14 Corp     3885 non-null   float64       \n",
      " 20  EURUSDV1M BGN Curncy           3892 non-null   float64       \n",
      " 21  W 1 COMB Comdty                3761 non-null   float64       \n",
      " 22  C 1 COMB Comdty                3761 non-null   float64       \n",
      " 23  KC1 Comdty                     3757 non-null   float64       \n",
      " 24  USGGBE2 Index                  3888 non-null   float64       \n",
      " 25  USGGBE10 Index                 3890 non-null   float64       \n",
      " 26  CESIUSD Index                  3824 non-null   float64       \n",
      "dtypes: datetime64[ns](1), float64(26)\n",
      "memory usage: 821.1 KB\n"
     ]
    },
    {
     "data": {
      "text/plain": [
       "None"
      ]
     },
     "metadata": {},
     "output_type": "display_data"
    }
   ],
   "source": [
    "\n",
    "#конвертация данных\n",
    "data_brl['Date'] = pd.to_datetime(data_brl['Date'], dayfirst=False)\n",
    "\n",
    "display(data_brl.info())"
   ]
  },
  {
   "cell_type": "code",
   "execution_count": 11,
   "metadata": {},
   "outputs": [],
   "source": [
    "#заполнение или удаление пропущенных значений\n"
   ]
  }
 ],
 "metadata": {
  "kernelspec": {
   "display_name": "Python 3",
   "language": "python",
   "name": "python3"
  },
  "language_info": {
   "codemirror_mode": {
    "name": "ipython",
    "version": 3
   },
   "file_extension": ".py",
   "mimetype": "text/x-python",
   "name": "python",
   "nbconvert_exporter": "python",
   "pygments_lexer": "ipython3",
   "version": "3.8.2"
  },
  "orig_nbformat": 4
 },
 "nbformat": 4,
 "nbformat_minor": 2
}
