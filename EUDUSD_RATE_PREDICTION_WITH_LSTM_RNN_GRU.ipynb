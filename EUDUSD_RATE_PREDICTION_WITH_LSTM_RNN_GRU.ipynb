{
 "cells": [
  {
   "cell_type": "markdown",
   "metadata": {
    "id": "XsidRgOE6W6i"
   },
   "source": [
    "### Importing important libraries"
   ]
  },
  {
   "cell_type": "code",
   "execution_count": 92,
   "metadata": {
    "id": "FnB6iJ5-7B6z"
   },
   "outputs": [],
   "source": [
    "\n",
    "\n",
    "# For reading stock data from yahoo\n",
    "from pandas_datareader.data import DataReader\n",
    "# For time stamps\n",
    "from datetime import datetime\n",
    "# Remote data access for pandas\n",
    "import pandas_datareader as webreader\n",
    "# Mathematical functions \n",
    "import math \n",
    "# Fundamental package for scientific computing with Python\n",
    "import numpy as np \n",
    "# Additional functions for analysing and manipulating data\n",
    "import pandas as pd \n",
    "# Date Functions\n",
    "from datetime import date, timedelta, datetime\n",
    "# This function adds plotting functions for calender dates\n",
    "from pandas.plotting import register_matplotlib_converters\n",
    "# Important package for visualization - we use this to plot the market data\n",
    "import matplotlib.pyplot as plt \n",
    "# Formatting dates\n",
    "import matplotlib.dates as mdates"
   ]
  },
  {
   "cell_type": "code",
   "execution_count": 93,
   "metadata": {
    "id": "4x8LklmD8isj"
   },
   "outputs": [],
   "source": [
    "import tensorflow as tf"
   ]
  },
  {
   "cell_type": "code",
   "execution_count": 94,
   "metadata": {
    "id": "2hGVFy3LTPDL"
   },
   "outputs": [
    {
     "ename": "ModuleNotFoundError",
     "evalue": "No module named 'keras.layers.recurrent'",
     "output_type": "error",
     "traceback": [
      "\u001b[1;31m---------------------------------------------------------------------------\u001b[0m",
      "\u001b[1;31mModuleNotFoundError\u001b[0m                       Traceback (most recent call last)",
      "Cell \u001b[1;32mIn[94], line 10\u001b[0m\n\u001b[0;32m      8\u001b[0m \u001b[38;5;28;01mfrom\u001b[39;00m \u001b[38;5;21;01mtensorflow\u001b[39;00m\u001b[38;5;21;01m.\u001b[39;00m\u001b[38;5;21;01mkeras\u001b[39;00m\u001b[38;5;21;01m.\u001b[39;00m\u001b[38;5;21;01moptimizers\u001b[39;00m \u001b[38;5;28;01mimport\u001b[39;00m Adam\n\u001b[0;32m      9\u001b[0m \u001b[38;5;66;03m# Modeling\u001b[39;00m\n\u001b[1;32m---> 10\u001b[0m \u001b[38;5;28;01mfrom\u001b[39;00m \u001b[38;5;21;01mkeras\u001b[39;00m\u001b[38;5;21;01m.\u001b[39;00m\u001b[38;5;21;01mlayers\u001b[39;00m\u001b[38;5;21;01m.\u001b[39;00m\u001b[38;5;21;01mrecurrent\u001b[39;00m \u001b[38;5;28;01mimport\u001b[39;00m LSTM\n\u001b[0;32m     11\u001b[0m \u001b[38;5;28;01mfrom\u001b[39;00m \u001b[38;5;21;01mkeras\u001b[39;00m\u001b[38;5;21;01m.\u001b[39;00m\u001b[38;5;21;01mlayers\u001b[39;00m \u001b[38;5;28;01mimport\u001b[39;00m Dense\n\u001b[0;32m     12\u001b[0m \u001b[38;5;28;01mfrom\u001b[39;00m \u001b[38;5;21;01mkeras\u001b[39;00m\u001b[38;5;21;01m.\u001b[39;00m\u001b[38;5;21;01mlayers\u001b[39;00m \u001b[38;5;28;01mimport\u001b[39;00m LSTM\n",
      "\u001b[1;31mModuleNotFoundError\u001b[0m: No module named 'keras.layers.recurrent'"
     ]
    }
   ],
   "source": [
    "np.random.seed()\n",
    "import time\n",
    "import keras\n",
    "from keras.models import Sequential\n",
    "from keras.layers import Dense, Dropout, Activation, BatchNormalization\n",
    "from keras.callbacks import TensorBoard\n",
    "from keras.callbacks import ModelCheckpoint\n",
    "from tensorflow.keras.optimizers import Adam\n",
    "# Modeling\n",
    "from keras.layers.recurrent import LSTM\n",
    "from keras.layers import Dense\n",
    "from keras.layers import LSTM\n",
    "from keras.layers import GRU\n",
    "from keras.regularizers import L1L2\n",
    "from keras.layers import SimpleRNN\n",
    "from keras import optimizers\n",
    "import keras.backend as K\n",
    "\n",
    "import sklearn\n",
    "from sklearn.utils import check_array\n",
    "# Evaluating models\n",
    "from sklearn.metrics import mean_squared_error\n",
    "from sklearn.metrics import mean_absolute_error\n",
    "# Normalizing the data\n",
    "from sklearn.preprocessing import MinMaxScaler\n",
    "# Splitting data\n",
    "from sklearn.model_selection import train_test_split\n"
   ]
  },
  {
   "cell_type": "markdown",
   "metadata": {
    "id": "FGTFDMIpTPDR"
   },
   "source": [
    "## (1.) Loading data to python"
   ]
  },
  {
   "cell_type": "code",
   "execution_count": 95,
   "metadata": {
    "colab": {
     "base_uri": "https://localhost:8080/"
    },
    "id": "1kHDCOhZ7sZC",
    "outputId": "6ed78e27-5e55-4a8f-d402-ed0c1db0ad32"
   },
   "outputs": [
    {
     "name": "stdout",
     "output_type": "stream",
     "text": [
      "Requirement already satisfied: yfinance in c:\\users\\leto\\appdata\\local\\programs\\python\\python311\\lib\\site-packages (0.2.31)\n",
      "Requirement already satisfied: pandas>=1.3.0 in c:\\users\\leto\\appdata\\local\\programs\\python\\python311\\lib\\site-packages (from yfinance) (1.5.3)\n",
      "Requirement already satisfied: numpy>=1.16.5 in c:\\users\\leto\\appdata\\local\\programs\\python\\python311\\lib\\site-packages (from yfinance) (1.24.2)\n",
      "Requirement already satisfied: requests>=2.31 in c:\\users\\leto\\appdata\\local\\programs\\python\\python311\\lib\\site-packages (from yfinance) (2.31.0)\n",
      "Requirement already satisfied: multitasking>=0.0.7 in c:\\users\\leto\\appdata\\local\\programs\\python\\python311\\lib\\site-packages (from yfinance) (0.0.11)\n",
      "Requirement already satisfied: lxml>=4.9.1 in c:\\users\\leto\\appdata\\local\\programs\\python\\python311\\lib\\site-packages (from yfinance) (4.9.3)\n",
      "Requirement already satisfied: appdirs>=1.4.4 in c:\\users\\leto\\appdata\\local\\programs\\python\\python311\\lib\\site-packages (from yfinance) (1.4.4)\n",
      "Requirement already satisfied: pytz>=2022.5 in c:\\users\\leto\\appdata\\local\\programs\\python\\python311\\lib\\site-packages (from yfinance) (2022.7.1)\n",
      "Requirement already satisfied: frozendict>=2.3.4 in c:\\users\\leto\\appdata\\local\\programs\\python\\python311\\lib\\site-packages (from yfinance) (2.3.8)\n",
      "Requirement already satisfied: peewee>=3.16.2 in c:\\users\\leto\\appdata\\local\\programs\\python\\python311\\lib\\site-packages (from yfinance) (3.17.0)\n",
      "Requirement already satisfied: beautifulsoup4>=4.11.1 in c:\\users\\leto\\appdata\\local\\programs\\python\\python311\\lib\\site-packages (from yfinance) (4.11.2)\n",
      "Requirement already satisfied: html5lib>=1.1 in c:\\users\\leto\\appdata\\local\\programs\\python\\python311\\lib\\site-packages (from yfinance) (1.1)\n",
      "Requirement already satisfied: soupsieve>1.2 in c:\\users\\leto\\appdata\\local\\programs\\python\\python311\\lib\\site-packages (from beautifulsoup4>=4.11.1->yfinance) (2.3.2.post1)\n",
      "Requirement already satisfied: six>=1.9 in c:\\users\\leto\\appdata\\local\\programs\\python\\python311\\lib\\site-packages (from html5lib>=1.1->yfinance) (1.16.0)\n",
      "Requirement already satisfied: webencodings in c:\\users\\leto\\appdata\\local\\programs\\python\\python311\\lib\\site-packages (from html5lib>=1.1->yfinance) (0.5.1)\n",
      "Requirement already satisfied: python-dateutil>=2.8.1 in c:\\users\\leto\\appdata\\local\\programs\\python\\python311\\lib\\site-packages (from pandas>=1.3.0->yfinance) (2.8.2)\n",
      "Requirement already satisfied: charset-normalizer<4,>=2 in c:\\users\\leto\\appdata\\local\\programs\\python\\python311\\lib\\site-packages (from requests>=2.31->yfinance) (3.1.0)\n",
      "Requirement already satisfied: idna<4,>=2.5 in c:\\users\\leto\\appdata\\local\\programs\\python\\python311\\lib\\site-packages (from requests>=2.31->yfinance) (3.4)\n",
      "Requirement already satisfied: urllib3<3,>=1.21.1 in c:\\users\\leto\\appdata\\local\\programs\\python\\python311\\lib\\site-packages (from requests>=2.31->yfinance) (1.26.15)\n",
      "Requirement already satisfied: certifi>=2017.4.17 in c:\\users\\leto\\appdata\\local\\programs\\python\\python311\\lib\\site-packages (from requests>=2.31->yfinance) (2022.12.7)\n"
     ]
    }
   ],
   "source": [
    "!pip install yfinance"
   ]
  },
  {
   "cell_type": "code",
   "execution_count": 96,
   "metadata": {
    "colab": {
     "base_uri": "https://localhost:8080/"
    },
    "id": "OcyeBDds7Thf",
    "outputId": "eee6342d-ecc1-4c43-c06a-30842799fe5a"
   },
   "outputs": [
    {
     "name": "stdout",
     "output_type": "stream",
     "text": [
      "[*********************100%%**********************]  1 of 1 completed\n"
     ]
    }
   ],
   "source": [
    "##### data: EUR/USD\n",
    "##### Taking USD as a benchmark, EUR represent the currency used in Europe (France, Germany etc)\n",
    "\n",
    "import pandas\n",
    "from pandas_datareader import data as pdr\n",
    "import yfinance as yfin\n",
    "yfin.pdr_override()\n",
    "\n",
    "\n",
    "d_EURUSD= pdr.get_data_yahoo(\"EURUSD=X\", start=\"2008-01-02\", end=\"2021-05-28\")\n",
    "dataset = pd.DataFrame(d_EURUSD)"
   ]
  },
  {
   "cell_type": "code",
   "execution_count": 97,
   "metadata": {
    "colab": {
     "base_uri": "https://localhost:8080/",
     "height": 237
    },
    "id": "V1CXneAbTPDS",
    "outputId": "48b713dc-080c-4d50-f702-5f9a0c95ce15"
   },
   "outputs": [
    {
     "data": {
      "text/html": [
       "<div>\n",
       "<style scoped>\n",
       "    .dataframe tbody tr th:only-of-type {\n",
       "        vertical-align: middle;\n",
       "    }\n",
       "\n",
       "    .dataframe tbody tr th {\n",
       "        vertical-align: top;\n",
       "    }\n",
       "\n",
       "    .dataframe thead th {\n",
       "        text-align: right;\n",
       "    }\n",
       "</style>\n",
       "<table border=\"1\" class=\"dataframe\">\n",
       "  <thead>\n",
       "    <tr style=\"text-align: right;\">\n",
       "      <th></th>\n",
       "      <th>Open</th>\n",
       "      <th>High</th>\n",
       "      <th>Low</th>\n",
       "      <th>Close</th>\n",
       "      <th>Adj Close</th>\n",
       "      <th>Volume</th>\n",
       "    </tr>\n",
       "    <tr>\n",
       "      <th>Date</th>\n",
       "      <th></th>\n",
       "      <th></th>\n",
       "      <th></th>\n",
       "      <th></th>\n",
       "      <th></th>\n",
       "      <th></th>\n",
       "    </tr>\n",
       "  </thead>\n",
       "  <tbody>\n",
       "    <tr>\n",
       "      <th>2008-01-02</th>\n",
       "      <td>1.462309</td>\n",
       "      <td>1.474296</td>\n",
       "      <td>1.460110</td>\n",
       "      <td>1.471692</td>\n",
       "      <td>1.471692</td>\n",
       "      <td>0</td>\n",
       "    </tr>\n",
       "    <tr>\n",
       "      <th>2008-01-03</th>\n",
       "      <td>1.471692</td>\n",
       "      <td>1.477891</td>\n",
       "      <td>1.469400</td>\n",
       "      <td>1.474491</td>\n",
       "      <td>1.474491</td>\n",
       "      <td>0</td>\n",
       "    </tr>\n",
       "    <tr>\n",
       "      <th>2008-01-04</th>\n",
       "      <td>1.474709</td>\n",
       "      <td>1.481811</td>\n",
       "      <td>1.469896</td>\n",
       "      <td>1.475492</td>\n",
       "      <td>1.475492</td>\n",
       "      <td>0</td>\n",
       "    </tr>\n",
       "    <tr>\n",
       "      <th>2008-01-07</th>\n",
       "      <td>1.475209</td>\n",
       "      <td>1.475209</td>\n",
       "      <td>1.466706</td>\n",
       "      <td>1.468299</td>\n",
       "      <td>1.468299</td>\n",
       "      <td>0</td>\n",
       "    </tr>\n",
       "    <tr>\n",
       "      <th>2008-01-08</th>\n",
       "      <td>1.559211</td>\n",
       "      <td>1.559284</td>\n",
       "      <td>1.552988</td>\n",
       "      <td>1.557099</td>\n",
       "      <td>1.557099</td>\n",
       "      <td>0</td>\n",
       "    </tr>\n",
       "  </tbody>\n",
       "</table>\n",
       "</div>"
      ],
      "text/plain": [
       "                Open      High       Low     Close  Adj Close  Volume\n",
       "Date                                                                 \n",
       "2008-01-02  1.462309  1.474296  1.460110  1.471692   1.471692       0\n",
       "2008-01-03  1.471692  1.477891  1.469400  1.474491   1.474491       0\n",
       "2008-01-04  1.474709  1.481811  1.469896  1.475492   1.475492       0\n",
       "2008-01-07  1.475209  1.475209  1.466706  1.468299   1.468299       0\n",
       "2008-01-08  1.559211  1.559284  1.552988  1.557099   1.557099       0"
      ]
     },
     "execution_count": 97,
     "metadata": {},
     "output_type": "execute_result"
    }
   ],
   "source": [
    "#dataset = pd.read_csv('d_CNYUSD.csv', index_col=0 )\n",
    "dataset.head()"
   ]
  },
  {
   "cell_type": "code",
   "execution_count": 98,
   "metadata": {
    "colab": {
     "base_uri": "https://localhost:8080/"
    },
    "id": "ICzd0QHoTPDT",
    "outputId": "b8bc9bad-eca7-4372-faf1-2d5958df6c2d"
   },
   "outputs": [
    {
     "data": {
      "text/plain": [
       "(3473, 6)"
      ]
     },
     "execution_count": 98,
     "metadata": {},
     "output_type": "execute_result"
    }
   ],
   "source": [
    "dataset.shape"
   ]
  },
  {
   "cell_type": "code",
   "execution_count": 99,
   "metadata": {
    "id": "TZ2EghNig2nZ"
   },
   "outputs": [],
   "source": [
    "dataset = dataset.drop(['Adj Close','Volume'],axis = 1)"
   ]
  },
  {
   "cell_type": "code",
   "execution_count": 100,
   "metadata": {
    "colab": {
     "base_uri": "https://localhost:8080/",
     "height": 143
    },
    "id": "3Fvw6pG3g2j1",
    "outputId": "e38c175b-92d3-4c8d-a730-706ca4235a31"
   },
   "outputs": [
    {
     "data": {
      "text/html": [
       "<div>\n",
       "<style scoped>\n",
       "    .dataframe tbody tr th:only-of-type {\n",
       "        vertical-align: middle;\n",
       "    }\n",
       "\n",
       "    .dataframe tbody tr th {\n",
       "        vertical-align: top;\n",
       "    }\n",
       "\n",
       "    .dataframe thead th {\n",
       "        text-align: right;\n",
       "    }\n",
       "</style>\n",
       "<table border=\"1\" class=\"dataframe\">\n",
       "  <thead>\n",
       "    <tr style=\"text-align: right;\">\n",
       "      <th></th>\n",
       "      <th>Open</th>\n",
       "      <th>High</th>\n",
       "      <th>Low</th>\n",
       "      <th>Close</th>\n",
       "    </tr>\n",
       "    <tr>\n",
       "      <th>Date</th>\n",
       "      <th></th>\n",
       "      <th></th>\n",
       "      <th></th>\n",
       "      <th></th>\n",
       "    </tr>\n",
       "  </thead>\n",
       "  <tbody>\n",
       "    <tr>\n",
       "      <th>2008-01-02</th>\n",
       "      <td>1.462309</td>\n",
       "      <td>1.474296</td>\n",
       "      <td>1.46011</td>\n",
       "      <td>1.471692</td>\n",
       "    </tr>\n",
       "    <tr>\n",
       "      <th>2008-01-03</th>\n",
       "      <td>1.471692</td>\n",
       "      <td>1.477891</td>\n",
       "      <td>1.46940</td>\n",
       "      <td>1.474491</td>\n",
       "    </tr>\n",
       "  </tbody>\n",
       "</table>\n",
       "</div>"
      ],
      "text/plain": [
       "                Open      High      Low     Close\n",
       "Date                                             \n",
       "2008-01-02  1.462309  1.474296  1.46011  1.471692\n",
       "2008-01-03  1.471692  1.477891  1.46940  1.474491"
      ]
     },
     "execution_count": 100,
     "metadata": {},
     "output_type": "execute_result"
    }
   ],
   "source": [
    "dataset.head(2)"
   ]
  },
  {
   "cell_type": "code",
   "execution_count": 101,
   "metadata": {
    "colab": {
     "base_uri": "https://localhost:8080/"
    },
    "id": "M7l1ZoSThSGT",
    "outputId": "5504b30b-6b9e-4b6a-dd27-df20b7042830"
   },
   "outputs": [
    {
     "name": "stdout",
     "output_type": "stream",
     "text": [
      "<class 'pandas.core.frame.DataFrame'>\n",
      "DatetimeIndex: 3473 entries, 2008-01-02 to 2021-05-27\n",
      "Data columns (total 4 columns):\n",
      " #   Column  Non-Null Count  Dtype  \n",
      "---  ------  --------------  -----  \n",
      " 0   Open    3473 non-null   float64\n",
      " 1   High    3473 non-null   float64\n",
      " 2   Low     3473 non-null   float64\n",
      " 3   Close   3473 non-null   float64\n",
      "dtypes: float64(4)\n",
      "memory usage: 135.7 KB\n"
     ]
    }
   ],
   "source": [
    "dataset.info()"
   ]
  },
  {
   "cell_type": "markdown",
   "metadata": {
    "id": "rMGfeYt5TPDX"
   },
   "source": [
    "### Dataset consisting of only predictors (Feutures)\n"
   ]
  },
  {
   "cell_type": "code",
   "execution_count": 102,
   "metadata": {
    "colab": {
     "base_uri": "https://localhost:8080/",
     "height": 237
    },
    "id": "_6sEcjMhTPDX",
    "outputId": "e2b59314-3e4d-4cbc-d687-c21ae7aafe9a"
   },
   "outputs": [
    {
     "data": {
      "text/html": [
       "<div>\n",
       "<style scoped>\n",
       "    .dataframe tbody tr th:only-of-type {\n",
       "        vertical-align: middle;\n",
       "    }\n",
       "\n",
       "    .dataframe tbody tr th {\n",
       "        vertical-align: top;\n",
       "    }\n",
       "\n",
       "    .dataframe thead th {\n",
       "        text-align: right;\n",
       "    }\n",
       "</style>\n",
       "<table border=\"1\" class=\"dataframe\">\n",
       "  <thead>\n",
       "    <tr style=\"text-align: right;\">\n",
       "      <th></th>\n",
       "      <th>Close</th>\n",
       "    </tr>\n",
       "    <tr>\n",
       "      <th>Date</th>\n",
       "      <th></th>\n",
       "    </tr>\n",
       "  </thead>\n",
       "  <tbody>\n",
       "    <tr>\n",
       "      <th>2008-01-02</th>\n",
       "      <td>1.471692</td>\n",
       "    </tr>\n",
       "    <tr>\n",
       "      <th>2008-01-03</th>\n",
       "      <td>1.474491</td>\n",
       "    </tr>\n",
       "    <tr>\n",
       "      <th>2008-01-04</th>\n",
       "      <td>1.475492</td>\n",
       "    </tr>\n",
       "    <tr>\n",
       "      <th>2008-01-07</th>\n",
       "      <td>1.468299</td>\n",
       "    </tr>\n",
       "    <tr>\n",
       "      <th>2008-01-08</th>\n",
       "      <td>1.557099</td>\n",
       "    </tr>\n",
       "  </tbody>\n",
       "</table>\n",
       "</div>"
      ],
      "text/plain": [
       "               Close\n",
       "Date                \n",
       "2008-01-02  1.471692\n",
       "2008-01-03  1.474491\n",
       "2008-01-04  1.475492\n",
       "2008-01-07  1.468299\n",
       "2008-01-08  1.557099"
      ]
     },
     "execution_count": 102,
     "metadata": {},
     "output_type": "execute_result"
    }
   ],
   "source": [
    "stock_dataset = dataset\n",
    "stock_dataset.head()\n",
    "data1 = stock_dataset[['Close']]\n",
    "data1.head()"
   ]
  },
  {
   "cell_type": "code",
   "execution_count": 103,
   "metadata": {
    "colab": {
     "base_uri": "https://localhost:8080/"
    },
    "id": "vRnsogFqTPDZ",
    "outputId": "bbf224b2-a819-4c23-8cbb-05a3c8e654a3"
   },
   "outputs": [
    {
     "name": "stdout",
     "output_type": "stream",
     "text": [
      "the shape of the predicting dataset is  (3473, 4)\n"
     ]
    }
   ],
   "source": [
    "print('the shape of the predicting dataset is ', stock_dataset.shape)"
   ]
  },
  {
   "cell_type": "markdown",
   "metadata": {
    "id": "Cc7BNcdxTPDZ"
   },
   "source": [
    "## (2.) Data setup for Input to RNN's"
   ]
  },
  {
   "cell_type": "markdown",
   "metadata": {
    "id": "zeJdujYGTPDa"
   },
   "source": [
    "### Normalizing the data\n",
    "\n",
    "We will normalize our data to values between 0 and 1 using the python's MinMaxScaler function. "
   ]
  },
  {
   "cell_type": "code",
   "execution_count": 104,
   "metadata": {
    "id": "ain8drpHTPDa"
   },
   "outputs": [],
   "source": [
    "def normaliser(data,frange =(0,1)):\n",
    "    #normaliser feutures\n",
    "    scaler = MinMaxScaler(feature_range=frange)\n",
    "    dt = data.values\n",
    "    #dt = dt.reshape(-1,1)\n",
    "    scaled = scaler.fit_transform(dt)\n",
    "    return scaled, scaler"
   ]
  },
  {
   "cell_type": "code",
   "execution_count": 105,
   "metadata": {
    "id": "gtlCuSBATPDa"
   },
   "outputs": [],
   "source": [
    "scaler1 = MinMaxScaler(feature_range = (0,1))\n",
    "scaler2 = MinMaxScaler(feature_range = (0,1))\n",
    "normalised_prices = scaler1.fit_transform(stock_dataset.values)\n",
    "#prices_n = scaler2.fit_transform(stock_dataset[:].values)\n",
    "normalised_prices[0:5] #Taking a look at our normalized values\n",
    "n = scaler2.fit_transform(data1)"
   ]
  },
  {
   "cell_type": "markdown",
   "metadata": {
    "id": "LhDZL2xQTPDb"
   },
   "source": [
    "### Transforming the time series into well labelled training and testing dataset \n",
    "\n",
    "We will use the following function to transform time series into well labelled braining training and target samples. i.e we transform out input into a tuple (n_samples,n_timesteps,n_features)"
   ]
  },
  {
   "cell_type": "code",
   "execution_count": 106,
   "metadata": {
    "id": "cENPjrLVTPDb"
   },
   "outputs": [],
   "source": [
    "def rnn_data_setup(data, lookback, delay, min_index, max_index):\n",
    "    '''\n",
    "    data:     Shape (n_samples,n_features). First column is the time series, other columns are the features.\n",
    "    lookback: Number of time steps in the RNN >= 1\n",
    "    delay:    The number of time steps to predict >= 1.\n",
    "    min_index,max_index: The starting and ending indices of the time series portion to construct the data.\n",
    "                         Allows constructing validation and test sets from the series in proper shape\n",
    "    Returns: A tuple (x,y) of numpy arrays where x is in shape (n_samples,n_timesteps,n_features) and \n",
    "             y is in shape (n_samples,delay). y is an array of target arrays each of size delay. To forecast \n",
    "             a single value n timesteps ahead, set delay = n and take the last element of the forecast array.\n",
    "    '''\n",
    "    n_samples=(max_index+1)-min_index-(lookback-1)-delay\n",
    "    samples = np.zeros((n_samples,lookback,data.shape[-1]))\n",
    "    targets = np.zeros((n_samples,delay))\n",
    "                  \n",
    "    samp, targ = [], []\n",
    "    for i in range(n_samples):  \n",
    "        indices1 = range(i, i+lookback)\n",
    "        indices2 = range(i + lookback, i + lookback + delay)\n",
    "        samples[i] = data[indices1]\n",
    "        targets[i,:] = data[indices2][0:delay][:,0] \n",
    "        #print(samples,targets)\n",
    "    samp.append(samples);targ.append(targets)\n",
    "\n",
    "    return np.array(samp)[0],np.array(targ)[0]"
   ]
  },
  {
   "cell_type": "code",
   "execution_count": 107,
   "metadata": {
    "colab": {
     "base_uri": "https://localhost:8080/"
    },
    "id": "tqPGsaDOTPDb",
    "outputId": "309053d1-dea8-47f2-de9b-02530867d72b"
   },
   "outputs": [
    {
     "name": "stdout",
     "output_type": "stream",
     "text": [
      "The shape of the input sample set is:  (3468, 5, 4)\n",
      "The shape of the target set is:  (3468, 1)\n"
     ]
    }
   ],
   "source": [
    "lookback =5 #Rolling period/ window of 5 and 10 days was used\n",
    "delay = 1\n",
    "min_index = 0\n",
    "max_index = dataset.shape[0]-1\n",
    "xdata, ydata = rnn_data_setup(normalised_prices, lookback, delay, min_index, max_index)\n",
    "print('The shape of the input sample set is: ',  xdata.shape)\n",
    "print('The shape of the target set is: ', ydata.shape)"
   ]
  },
  {
   "cell_type": "markdown",
   "metadata": {
    "id": "MEV6ps_lTPDb"
   },
   "source": [
    "### Splitting the dataset into the training and testing sets\n",
    "\n",
    "We are splitting the dataset of normalized stock prices into 80$\\%$ and 20$\\%$ for training and testing respectively. 20 $\\%$ of training set will be assigned for validation at later stage."
   ]
  },
  {
   "cell_type": "code",
   "execution_count": null,
   "metadata": {
    "id": "VXRAbxdYih_4"
   },
   "outputs": [],
   "source": []
  },
  {
   "cell_type": "code",
   "execution_count": 108,
   "metadata": {
    "colab": {
     "base_uri": "https://localhost:8080/"
    },
    "id": "2PAncxGlTPDc",
    "outputId": "d924526c-fcae-4305-9a5c-75107dd235f0"
   },
   "outputs": [
    {
     "name": "stdout",
     "output_type": "stream",
     "text": [
      "The shape of the training sample is:  (2080, 5, 4)\n",
      "The shape of the validation sample is:  (693, 5, 4)\n",
      "The shape of the testing sample is:  (695, 5, 4)\n",
      "The shape of the training target is:  (2080, 1)\n",
      "The shape of the validation target is:  (693, 1)\n",
      "The shape of the testing target is:  (695, 1)\n"
     ]
    }
   ],
   "source": [
    "#Specifying the sizes of training and testing datasets.\n",
    "train_size = int(len(xdata)*0.6) # 2416#\n",
    "valid_size = int(len(xdata)*0.2) #605#\n",
    "test_size = len(xdata) - train_size-valid_size #355#\n",
    "\n",
    "#Splitting the dataset into trainig, validation and testing.\n",
    "xtrain, xvalid, xtest = xdata[0:train_size,:], xdata[train_size:train_size+valid_size,:], xdata[train_size+valid_size:len(xdata),:]\n",
    "ytrain, yvalid, ytest = ydata[0:train_size,:], ydata[train_size:train_size+valid_size,:], ydata[train_size+valid_size:len(ydata),:]\n",
    "\n",
    "print('The shape of the training sample is: ', xtrain.shape)\n",
    "print('The shape of the validation sample is: ', xvalid.shape)\n",
    "print('The shape of the testing sample is: ', xtest.shape)\n",
    "print('The shape of the training target is: ', ytrain.shape)\n",
    "print('The shape of the validation target is: ', yvalid.shape)\n",
    "print('The shape of the testing target is: ', ytest.shape)"
   ]
  },
  {
   "cell_type": "markdown",
   "metadata": {
    "id": "11nhho2ZTPDc"
   },
   "source": [
    " "
   ]
  },
  {
   "cell_type": "code",
   "execution_count": 109,
   "metadata": {
    "id": "v3JqXv91TPDd"
   },
   "outputs": [],
   "source": [
    "xtrain = np.reshape(xtrain, (xtrain.shape[0], xtrain.shape[1], -1))\n",
    "xtest = np.reshape(xtest, (xtest.shape[0], xtest.shape[1], -1))"
   ]
  },
  {
   "cell_type": "markdown",
   "metadata": {
    "id": "gS_nsRLrTPDd"
   },
   "source": [
    " "
   ]
  },
  {
   "cell_type": "markdown",
   "metadata": {
    "id": "7rqOjsb_TPDd"
   },
   "source": [
    "## Recurrent Neural Networks Models"
   ]
  },
  {
   "cell_type": "markdown",
   "metadata": {
    "id": "jczKGcp9TPDd"
   },
   "source": [
    "## (A.) SimpleRNN model \n",
    "\n",
    "We will be are looking the best RNN model by looking the model's performance according to different variations in terms of its variables.  "
   ]
  },
  {
   "cell_type": "markdown",
   "metadata": {
    "id": "H6TD4RilTPDe"
   },
   "source": [
    "#### Input variables"
   ]
  },
  {
   "cell_type": "code",
   "execution_count": 110,
   "metadata": {
    "id": "luzctCdeTPDe"
   },
   "outputs": [],
   "source": [
    "n_features = dataset.shape[1]\n",
    "lr = 0.0016#Learning rate\n",
    "units = 16 #Number hidden units\n",
    "batch_size=64"
   ]
  },
  {
   "cell_type": "code",
   "execution_count": null,
   "metadata": {
    "colab": {
     "base_uri": "https://localhost:8080/"
    },
    "id": "DW2aeyTnTPDf",
    "outputId": "c1706160-2854-4ba4-f674-a64f924efc25"
   },
   "outputs": [
    {
     "name": "stdout",
     "output_type": "stream",
     "text": [
      "Model: \"sequential\"\n",
      "_________________________________________________________________\n",
      " Layer (type)                Output Shape              Param #   \n",
      "=================================================================\n",
      " simple_rnn (SimpleRNN)      (None, 16)                336       \n",
      "                                                                 \n",
      " dense (Dense)               (None, 1)                 17        \n",
      "                                                                 \n",
      "=================================================================\n",
      "Total params: 353\n",
      "Trainable params: 353\n",
      "Non-trainable params: 0\n",
      "_________________________________________________________________\n"
     ]
    }
   ],
   "source": [
    "#define the model\n",
    "model1 = Sequential()\n",
    "model1.add(keras.layers.SimpleRNN(units, activation = 'tanh', input_shape = (lookback, n_features), return_sequences =False,recurrent_dropout=0.3))\n",
    "#model1.add(Dropout(0.2))\n",
    "model1.add(Dense(1))\n",
    "opt = Adam(lr)#, decay=1e-6)\n",
    "model1.compile(optimizer = 'Adam' , loss = 'mse', metrics=[\"mae\"])\n",
    "model1.summary()"
   ]
  },
  {
   "cell_type": "markdown",
   "metadata": {
    "id": "KngJcJsbTPDg"
   },
   "source": [
    "### (i.) Fitting the model"
   ]
  },
  {
   "cell_type": "code",
   "execution_count": 111,
   "metadata": {
    "colab": {
     "base_uri": "https://localhost:8080/"
    },
    "id": "S50U356vTPDg",
    "outputId": "a597e8dc-e87b-47ee-a891-faf91f4b9d12"
   },
   "outputs": [
    {
     "ename": "NameError",
     "evalue": "name 'model1' is not defined",
     "output_type": "error",
     "traceback": [
      "\u001b[1;31m---------------------------------------------------------------------------\u001b[0m",
      "\u001b[1;31mNameError\u001b[0m                                 Traceback (most recent call last)",
      "Cell \u001b[1;32mIn[111], line 2\u001b[0m\n\u001b[0;32m      1\u001b[0m np\u001b[38;5;241m.\u001b[39mrandom\u001b[38;5;241m.\u001b[39mseed(\u001b[38;5;241m1\u001b[39m)\n\u001b[1;32m----> 2\u001b[0m result1\u001b[38;5;241m=\u001b[39m\u001b[43mmodel1\u001b[49m\u001b[38;5;241m.\u001b[39mfit(xtrain,ytrain, validation_data\u001b[38;5;241m=\u001b[39m(xvalid,yvalid), epochs\u001b[38;5;241m=\u001b[39m\u001b[38;5;241m100\u001b[39m, verbose\u001b[38;5;241m=\u001b[39m\u001b[38;5;241m1\u001b[39m)\n",
      "\u001b[1;31mNameError\u001b[0m: name 'model1' is not defined"
     ]
    }
   ],
   "source": [
    "np.random.seed(1)\n",
    "result1=model1.fit(xtrain,ytrain, validation_data=(xvalid,yvalid), epochs=100, verbose=1)"
   ]
  },
  {
   "cell_type": "code",
   "execution_count": null,
   "metadata": {
    "colab": {
     "base_uri": "https://localhost:8080/",
     "height": 270
    },
    "id": "vD5klO9tTPDh",
    "outputId": "2483d431-dd70-4eb0-fdc2-6827883c8fe5"
   },
   "outputs": [
    {
     "data": {
      "text/html": [
       "\n",
       "  <div id=\"df-32e8986d-fb81-490b-855f-34ef1de8e264\">\n",
       "    <div class=\"colab-df-container\">\n",
       "      <div>\n",
       "<style scoped>\n",
       "    .dataframe tbody tr th:only-of-type {\n",
       "        vertical-align: middle;\n",
       "    }\n",
       "\n",
       "    .dataframe tbody tr th {\n",
       "        vertical-align: top;\n",
       "    }\n",
       "\n",
       "    .dataframe thead th {\n",
       "        text-align: right;\n",
       "    }\n",
       "</style>\n",
       "<table border=\"1\" class=\"dataframe\">\n",
       "  <thead>\n",
       "    <tr style=\"text-align: right;\">\n",
       "      <th></th>\n",
       "      <th>loss</th>\n",
       "      <th>mae</th>\n",
       "      <th>val_loss</th>\n",
       "      <th>val_mae</th>\n",
       "    </tr>\n",
       "  </thead>\n",
       "  <tbody>\n",
       "    <tr>\n",
       "      <th>95</th>\n",
       "      <td>0.000447</td>\n",
       "      <td>0.011726</td>\n",
       "      <td>0.000094</td>\n",
       "      <td>0.007248</td>\n",
       "    </tr>\n",
       "    <tr>\n",
       "      <th>96</th>\n",
       "      <td>0.000452</td>\n",
       "      <td>0.011648</td>\n",
       "      <td>0.000079</td>\n",
       "      <td>0.006702</td>\n",
       "    </tr>\n",
       "    <tr>\n",
       "      <th>97</th>\n",
       "      <td>0.000479</td>\n",
       "      <td>0.012520</td>\n",
       "      <td>0.000131</td>\n",
       "      <td>0.009347</td>\n",
       "    </tr>\n",
       "    <tr>\n",
       "      <th>98</th>\n",
       "      <td>0.000436</td>\n",
       "      <td>0.011140</td>\n",
       "      <td>0.000075</td>\n",
       "      <td>0.006643</td>\n",
       "    </tr>\n",
       "    <tr>\n",
       "      <th>99</th>\n",
       "      <td>0.000435</td>\n",
       "      <td>0.011274</td>\n",
       "      <td>0.000119</td>\n",
       "      <td>0.008400</td>\n",
       "    </tr>\n",
       "  </tbody>\n",
       "</table>\n",
       "</div>\n",
       "      <button class=\"colab-df-convert\" onclick=\"convertToInteractive('df-32e8986d-fb81-490b-855f-34ef1de8e264')\"\n",
       "              title=\"Convert this dataframe to an interactive table.\"\n",
       "              style=\"display:none;\">\n",
       "        \n",
       "  <svg xmlns=\"http://www.w3.org/2000/svg\" height=\"24px\"viewBox=\"0 0 24 24\"\n",
       "       width=\"24px\">\n",
       "    <path d=\"M0 0h24v24H0V0z\" fill=\"none\"/>\n",
       "    <path d=\"M18.56 5.44l.94 2.06.94-2.06 2.06-.94-2.06-.94-.94-2.06-.94 2.06-2.06.94zm-11 1L8.5 8.5l.94-2.06 2.06-.94-2.06-.94L8.5 2.5l-.94 2.06-2.06.94zm10 10l.94 2.06.94-2.06 2.06-.94-2.06-.94-.94-2.06-.94 2.06-2.06.94z\"/><path d=\"M17.41 7.96l-1.37-1.37c-.4-.4-.92-.59-1.43-.59-.52 0-1.04.2-1.43.59L10.3 9.45l-7.72 7.72c-.78.78-.78 2.05 0 2.83L4 21.41c.39.39.9.59 1.41.59.51 0 1.02-.2 1.41-.59l7.78-7.78 2.81-2.81c.8-.78.8-2.07 0-2.86zM5.41 20L4 18.59l7.72-7.72 1.47 1.35L5.41 20z\"/>\n",
       "  </svg>\n",
       "      </button>\n",
       "      \n",
       "  <style>\n",
       "    .colab-df-container {\n",
       "      display:flex;\n",
       "      flex-wrap:wrap;\n",
       "      gap: 12px;\n",
       "    }\n",
       "\n",
       "    .colab-df-convert {\n",
       "      background-color: #E8F0FE;\n",
       "      border: none;\n",
       "      border-radius: 50%;\n",
       "      cursor: pointer;\n",
       "      display: none;\n",
       "      fill: #1967D2;\n",
       "      height: 32px;\n",
       "      padding: 0 0 0 0;\n",
       "      width: 32px;\n",
       "    }\n",
       "\n",
       "    .colab-df-convert:hover {\n",
       "      background-color: #E2EBFA;\n",
       "      box-shadow: 0px 1px 2px rgba(60, 64, 67, 0.3), 0px 1px 3px 1px rgba(60, 64, 67, 0.15);\n",
       "      fill: #174EA6;\n",
       "    }\n",
       "\n",
       "    [theme=dark] .colab-df-convert {\n",
       "      background-color: #3B4455;\n",
       "      fill: #D2E3FC;\n",
       "    }\n",
       "\n",
       "    [theme=dark] .colab-df-convert:hover {\n",
       "      background-color: #434B5C;\n",
       "      box-shadow: 0px 1px 3px 1px rgba(0, 0, 0, 0.15);\n",
       "      filter: drop-shadow(0px 1px 2px rgba(0, 0, 0, 0.3));\n",
       "      fill: #FFFFFF;\n",
       "    }\n",
       "  </style>\n",
       "\n",
       "      <script>\n",
       "        const buttonEl =\n",
       "          document.querySelector('#df-32e8986d-fb81-490b-855f-34ef1de8e264 button.colab-df-convert');\n",
       "        buttonEl.style.display =\n",
       "          google.colab.kernel.accessAllowed ? 'block' : 'none';\n",
       "\n",
       "        async function convertToInteractive(key) {\n",
       "          const element = document.querySelector('#df-32e8986d-fb81-490b-855f-34ef1de8e264');\n",
       "          const dataTable =\n",
       "            await google.colab.kernel.invokeFunction('convertToInteractive',\n",
       "                                                     [key], {});\n",
       "          if (!dataTable) return;\n",
       "\n",
       "          const docLinkHtml = 'Like what you see? Visit the ' +\n",
       "            '<a target=\"_blank\" href=https://colab.research.google.com/notebooks/data_table.ipynb>data table notebook</a>'\n",
       "            + ' to learn more about interactive tables.';\n",
       "          element.innerHTML = '';\n",
       "          dataTable['output_type'] = 'display_data';\n",
       "          await google.colab.output.renderOutput(dataTable, element);\n",
       "          const docLink = document.createElement('div');\n",
       "          docLink.innerHTML = docLinkHtml;\n",
       "          element.appendChild(docLink);\n",
       "        }\n",
       "      </script>\n",
       "    </div>\n",
       "  </div>\n",
       "  "
      ],
      "text/plain": [
       "        loss       mae  val_loss   val_mae\n",
       "95  0.000447  0.011726  0.000094  0.007248\n",
       "96  0.000452  0.011648  0.000079  0.006702\n",
       "97  0.000479  0.012520  0.000131  0.009347\n",
       "98  0.000436  0.011140  0.000075  0.006643\n",
       "99  0.000435  0.011274  0.000119  0.008400"
      ]
     },
     "execution_count": 23,
     "metadata": {},
     "output_type": "execute_result"
    }
   ],
   "source": [
    "df = pd.DataFrame(result1.history)\n",
    "df.tail()"
   ]
  },
  {
   "cell_type": "code",
   "execution_count": null,
   "metadata": {
    "colab": {
     "base_uri": "https://localhost:8080/",
     "height": 393
    },
    "id": "284cQHKKTPDh",
    "outputId": "900f19a9-b68d-4a2b-ee27-a5e894459475"
   },
   "outputs": [
    {
     "name": "stdout",
     "output_type": "stream",
     "text": [
      "\n"
     ]
    },
    {
     "name": "stderr",
     "output_type": "stream",
     "text": [
      "The PostScript backend does not support transparency; partially transparent artists will be rendered opaque.\n",
      "The PostScript backend does not support transparency; partially transparent artists will be rendered opaque.\n"
     ]
    },
    {
     "data": {
      "image/png": "[encoded data removed]",
      "text/plain": [
       "<Figure size 648x360 with 1 Axes>"
      ]
     },
     "metadata": {
      "needs_background": "light"
     },
     "output_type": "display_data"
    }
   ],
   "source": [
    "print('')\n",
    "plt.figure(figsize=(9,5))\n",
    "plt.plot(df['loss'], label ='Training loss (MSE)', color = 'blue')\n",
    "plt.plot(df['val_loss'], label='Validation loss (MSE)', color = 'orange')\n",
    "plt.xlabel('Mini-batch', fontsize=13)\n",
    "plt.ylabel('Loss', fontsize=13)\n",
    "plt.legend(fontsize=13)\n",
    "plt.savefig('RNN_error1.eps', format='eps', dpi=1000)\n",
    "plt.show()"
   ]
  },
  {
   "cell_type": "markdown",
   "metadata": {
    "id": "ab73lZjDTPDh"
   },
   "source": [
    "  "
   ]
  },
  {
   "cell_type": "markdown",
   "metadata": {
    "id": "Awz209vUTPDi"
   },
   "source": [
    "### (ii.) Predictions\n",
    "\n",
    "Now we will use our model to make predictions."
   ]
  },
  {
   "cell_type": "code",
   "execution_count": null,
   "metadata": {
    "colab": {
     "base_uri": "https://localhost:8080/"
    },
    "id": "iRAKX95RTPDi",
    "outputId": "29b5bf52-20c8-4f15-bdb7-60b5ae6ab4a4"
   },
   "outputs": [
    {
     "data": {
      "text/plain": [
       "(695, 1)"
      ]
     },
     "execution_count": 25,
     "metadata": {},
     "output_type": "execute_result"
    }
   ],
   "source": [
    "preds1 = model1.predict(xtest)\n",
    "preds1.shape"
   ]
  },
  {
   "cell_type": "code",
   "execution_count": null,
   "metadata": {
    "colab": {
     "base_uri": "https://localhost:8080/",
     "height": 353
    },
    "id": "XDvVx9chTPDi",
    "outputId": "9267e754-42f6-4c98-d6f9-1614a231840a"
   },
   "outputs": [
    {
     "name": "stdout",
     "output_type": "stream",
     "text": [
      "\n"
     ]
    },
    {
     "data": {
      "image/png": "[encoded data removed]",
      "text/plain": [
       "<Figure size 720x360 with 1 Axes>"
      ]
     },
     "metadata": {
      "needs_background": "light"
     },
     "output_type": "display_data"
    }
   ],
   "source": [
    "print('')\n",
    "plt.figure(figsize=(10,5))\n",
    "plt.plot(ytest, label=\"Actual Price\", color = 'blue')\n",
    "plt.plot(preds1, label=\"RNN\", color = 'red')\n",
    "plt.xlabel('Time (days)')\n",
    "plt.ylabel('Stock Price')\n",
    "plt.legend(fontsize=13)\n",
    "plt.show()"
   ]
  },
  {
   "cell_type": "code",
   "execution_count": null,
   "metadata": {
    "collapsed": true,
    "id": "Xbuztw2ATPDi"
   },
   "outputs": [],
   "source": [
    "#actuals = scaler2.inverse_transform(xtest)\n",
    "real_pred1 = scaler2.inverse_transform(preds1)"
   ]
  },
  {
   "cell_type": "code",
   "execution_count": null,
   "metadata": {
    "collapsed": true,
    "id": "2an-3tJ8TPDi"
   },
   "outputs": [],
   "source": [
    "ytest=ytest.reshape(-1, 1)\n",
    "actuals = scaler2.inverse_transform(ytest)"
   ]
  },
  {
   "cell_type": "markdown",
   "metadata": {
    "id": "e9EIJDQlTPDj"
   },
   "source": [
    "#### Plot of Actual Stock Prices"
   ]
  },
  {
   "cell_type": "code",
   "execution_count": null,
   "metadata": {
    "colab": {
     "base_uri": "https://localhost:8080/",
     "height": 393
    },
    "id": "rpW_9RzmTPDj",
    "outputId": "9ddcad5a-1ff8-40fe-82be-d585aeb694fc"
   },
   "outputs": [
    {
     "name": "stderr",
     "output_type": "stream",
     "text": [
      "The PostScript backend does not support transparency; partially transparent artists will be rendered opaque.\n",
      "The PostScript backend does not support transparency; partially transparent artists will be rendered opaque.\n"
     ]
    },
    {
     "name": "stdout",
     "output_type": "stream",
     "text": [
      "\n"
     ]
    },
    {
     "data": {
      "image/png": "[encoded data removed]",
      "text/plain": [
       "<Figure size 720x360 with 1 Axes>"
      ]
     },
     "metadata": {
      "needs_background": "light"
     },
     "output_type": "display_data"
    }
   ],
   "source": [
    "print('')\n",
    "plt.figure(figsize=(10,5))\n",
    "plt.plot(actuals, label=\"Actual Price\", color = 'blue')\n",
    "plt.plot(real_pred1, label=\"RNN\", color = 'red')\n",
    "plt.xlabel('Time (days)', fontsize=13)\n",
    "plt.ylabel('Stock Price', fontsize=13)\n",
    "plt.legend(fontsize=13)\n",
    "plt.savefig('RNN_model1.eps', format='eps', dpi=1000)\n",
    "plt.show()"
   ]
  },
  {
   "cell_type": "code",
   "execution_count": null,
   "metadata": {
    "colab": {
     "base_uri": "https://localhost:8080/",
     "height": 54
    },
    "id": "wB_Yo5NvTPDj",
    "outputId": "f34f108d-0aa5-44ae-c80a-5cdc9a620456"
   },
   "outputs": [
    {
     "data": {
      "image/png": "[encoded data removed]",
      "text/plain": [
       "<Figure size 648x360 with 1 Axes>"
      ]
     },
     "metadata": {
      "needs_background": "light"
     },
     "output_type": "display_data"
    }
   ],
   "source": [
    "plt.figure(figsize=(9,5))\n",
    "plt.plot(preds1[:400,:])\n",
    "plt.plot(ytest[:400,:])\n",
    "plt.show()"
   ]
  },
  {
   "cell_type": "markdown",
   "metadata": {
    "id": "uGkbnrDrTPDk"
   },
   "source": [
    "### (iii.) RNN Model MSE"
   ]
  },
  {
   "cell_type": "code",
   "execution_count": null,
   "metadata": {
    "colab": {
     "base_uri": "https://localhost:8080/"
    },
    "id": "vS5z9RVGTPDk",
    "outputId": "176a26d5-6256-41f7-d7d8-45b2d8502a57"
   },
   "outputs": [
    {
     "name": "stdout",
     "output_type": "stream",
     "text": [
      "The the mean squared error committed by the standard RNN model is  2.684582672548734e-05\n",
      "The squaroot of the mean squared error committed by the standard RNN model is  0.0051812958538851395\n"
     ]
    }
   ],
   "source": [
    "print('The the mean squared error committed by the standard RNN model is ', mean_squared_error(actuals,real_pred1))\n",
    "print('The squaroot of the mean squared error committed by the standard RNN model is ', np.sqrt(mean_squared_error(actuals,real_pred1)))"
   ]
  },
  {
   "cell_type": "markdown",
   "metadata": {
    "id": "s62Bl-JnTPDl"
   },
   "source": [
    "### (iv.) RNN Model MAPE"
   ]
  },
  {
   "cell_type": "code",
   "execution_count": null,
   "metadata": {
    "id": "tm5uO_YdYWe-"
   },
   "outputs": [],
   "source": [
    "from keras.metrics import mean_absolute_percentage_error #MeanAbsolutePercentageError"
   ]
  },
  {
   "cell_type": "code",
   "execution_count": null,
   "metadata": {
    "collapsed": true,
    "id": "n-ZIAwuLTPDl"
   },
   "outputs": [],
   "source": [
    "def mean_absolute_percentage_error(y_true, y_pred): \n",
    "    y_true, y_pred = np.array(y_true), np.array(y_pred)\n",
    "    return np.mean(np.abs((y_true - y_pred) / y_pred)) * 100"
   ]
  },
  {
   "cell_type": "code",
   "execution_count": null,
   "metadata": {
    "colab": {
     "base_uri": "https://localhost:8080/"
    },
    "id": "GQ66TPbOTPDm",
    "outputId": "41728867-f1d1-441a-a4bd-91e2d1d68b9e"
   },
   "outputs": [
    {
     "name": "stdout",
     "output_type": "stream",
     "text": [
      "The the mean absolute percentage error committed by the standard RNN model is:  0.34169240579896637\n"
     ]
    }
   ],
   "source": [
    "print('The the mean absolute percentage error committed by the standard RNN model is: ', mean_absolute_percentage_error(actuals,real_pred1))"
   ]
  },
  {
   "cell_type": "markdown",
   "metadata": {
    "id": "TxrB4vQgTPDm"
   },
   "source": [
    "### (v.) RNN Model MAE"
   ]
  },
  {
   "cell_type": "code",
   "execution_count": null,
   "metadata": {
    "colab": {
     "base_uri": "https://localhost:8080/"
    },
    "id": "RB2-x40tTPDm",
    "outputId": "b6a87f6c-2bd7-4af5-ee5f-61525e8332b3"
   },
   "outputs": [
    {
     "name": "stdout",
     "output_type": "stream",
     "text": [
      "The the mean absolute error committed by the standard RNN model is:  0.003949970510757619\n"
     ]
    }
   ],
   "source": [
    "print('The the mean absolute error committed by the standard RNN model is: ', mean_absolute_error(actuals,real_pred1))"
   ]
  },
  {
   "cell_type": "markdown",
   "metadata": {
    "id": "P7UzcFCQTPDm"
   },
   "source": [
    "  "
   ]
  },
  {
   "cell_type": "markdown",
   "metadata": {
    "id": "_q1ftnQlTPDn"
   },
   "source": [
    "## (B.) LSTM Model"
   ]
  },
  {
   "cell_type": "code",
   "execution_count": null,
   "metadata": {
    "colab": {
     "base_uri": "https://localhost:8080/"
    },
    "id": "BQDe26f_TPDn",
    "outputId": "cf93c638-7f78-4777-f465-c3266542faa5"
   },
   "outputs": [
    {
     "name": "stdout",
     "output_type": "stream",
     "text": [
      "Model: \"sequential_1\"\n",
      "_________________________________________________________________\n",
      " Layer (type)                Output Shape              Param #   \n",
      "=================================================================\n",
      " lstm (LSTM)                 (None, 5, 32)             4736      \n",
      "                                                                 \n",
      " lstm_1 (LSTM)               (None, 32)                8320      \n",
      "                                                                 \n",
      " dense_1 (Dense)             (None, 1)                 33        \n",
      "                                                                 \n",
      "=================================================================\n",
      "Total params: 13,089\n",
      "Trainable params: 13,089\n",
      "Non-trainable params: 0\n",
      "_________________________________________________________________\n"
     ]
    },
    {
     "name": "stderr",
     "output_type": "stream",
     "text": [
      "/usr/local/lib/python3.7/dist-packages/keras/optimizer_v2/adam.py:105: UserWarning: The `lr` argument is deprecated, use `learning_rate` instead.\n",
      "  super(Adam, self).__init__(name, **kwargs)\n"
     ]
    }
   ],
   "source": [
    "# Define the LSTM model\n",
    "model2 = Sequential()\n",
    "model2.add(LSTM(32, activation='tanh',input_shape = (lookback,dataset.shape[1]),return_sequences = True))#,recurrent_dropout=0.3))\n",
    "#model2.add(LSTM(32),return_sequences = True))                 #,activation='tanh', return_sequences = True,recurrent_dropout=0.2))\n",
    "#model2.add(Dropout(0.5))\n",
    "model2.add(LSTM(32))\n",
    "#model2.add(Dropout(0.5))\n",
    "model2.add(Dense(1))\n",
    "opt = Adam(lr=0.02)#, decay=1e-6)\n",
    "model2.compile(loss='mse', optimizer=opt , metrics=[\"mae\"])\n",
    "model2.summary()"
   ]
  },
  {
   "cell_type": "markdown",
   "metadata": {
    "id": "bHW1PahFTPDn"
   },
   "source": [
    "### (i.) Fitting the model"
   ]
  },
  {
   "cell_type": "markdown",
   "metadata": {
    "id": "4X8izAGpTPDo"
   },
   "source": [
    " "
   ]
  },
  {
   "cell_type": "code",
   "execution_count": null,
   "metadata": {
    "colab": {
     "base_uri": "https://localhost:8080/"
    },
    "id": "fIAGzQUHTPDo",
    "outputId": "4c8a6851-fe7f-44d1-b48b-90d74fdfc301",
    "scrolled": false
   },
   "outputs": [
    {
     "name": "stdout",
     "output_type": "stream",
     "text": [
      "Epoch 1/150\n",
      "7/7 [==============================] - 5s 191ms/step - loss: 0.1021 - mae: 0.2692 - val_loss: 0.0396 - val_mae: 0.1916\n",
      "Epoch 2/150\n",
      "7/7 [==============================] - 0s 21ms/step - loss: 0.0239 - mae: 0.1250 - val_loss: 0.0171 - val_mae: 0.1217\n",
      "Epoch 3/150\n",
      "7/7 [==============================] - 0s 21ms/step - loss: 0.0166 - mae: 0.1013 - val_loss: 0.0282 - val_mae: 0.1670\n",
      "Epoch 4/150\n",
      "7/7 [==============================] - 0s 23ms/step - loss: 0.0072 - mae: 0.0703 - val_loss: 0.0021 - val_mae: 0.0435\n",
      "Epoch 5/150\n",
      "7/7 [==============================] - 0s 21ms/step - loss: 0.0029 - mae: 0.0436 - val_loss: 0.0106 - val_mae: 0.1010\n",
      "Epoch 6/150\n",
      "7/7 [==============================] - 0s 21ms/step - loss: 0.0023 - mae: 0.0382 - val_loss: 7.0566e-04 - val_mae: 0.0230\n",
      "Epoch 7/150\n",
      "7/7 [==============================] - 0s 21ms/step - loss: 0.0015 - mae: 0.0285 - val_loss: 0.0010 - val_mae: 0.0285\n",
      "Epoch 8/150\n",
      "7/7 [==============================] - 0s 20ms/step - loss: 0.0013 - mae: 0.0260 - val_loss: 2.5010e-04 - val_mae: 0.0125\n",
      "Epoch 9/150\n",
      "7/7 [==============================] - 0s 22ms/step - loss: 8.9197e-04 - mae: 0.0223 - val_loss: 8.3073e-04 - val_mae: 0.0249\n",
      "Epoch 10/150\n",
      "7/7 [==============================] - 0s 22ms/step - loss: 8.2961e-04 - mae: 0.0208 - val_loss: 4.7744e-04 - val_mae: 0.0181\n",
      "Epoch 11/150\n",
      "7/7 [==============================] - 0s 42ms/step - loss: 7.5348e-04 - mae: 0.0193 - val_loss: 3.4772e-04 - val_mae: 0.0149\n",
      "Epoch 12/150\n",
      "7/7 [==============================] - 0s 41ms/step - loss: 7.2789e-04 - mae: 0.0191 - val_loss: 3.4185e-04 - val_mae: 0.0147\n",
      "Epoch 13/150\n",
      "7/7 [==============================] - 0s 34ms/step - loss: 7.2180e-04 - mae: 0.0189 - val_loss: 3.2112e-04 - val_mae: 0.0142\n",
      "Epoch 14/150\n",
      "7/7 [==============================] - 0s 37ms/step - loss: 7.1152e-04 - mae: 0.0186 - val_loss: 3.1478e-04 - val_mae: 0.0142\n",
      "Epoch 15/150\n",
      "7/7 [==============================] - 0s 35ms/step - loss: 7.1166e-04 - mae: 0.0186 - val_loss: 3.0585e-04 - val_mae: 0.0139\n",
      "Epoch 16/150\n",
      "7/7 [==============================] - 0s 40ms/step - loss: 6.9969e-04 - mae: 0.0184 - val_loss: 3.1486e-04 - val_mae: 0.0142\n",
      "Epoch 17/150\n",
      "7/7 [==============================] - 0s 30ms/step - loss: 7.0079e-04 - mae: 0.0185 - val_loss: 3.0875e-04 - val_mae: 0.0141\n",
      "Epoch 18/150\n",
      "7/7 [==============================] - 0s 40ms/step - loss: 7.0629e-04 - mae: 0.0186 - val_loss: 3.4930e-04 - val_mae: 0.0152\n",
      "Epoch 19/150\n",
      "7/7 [==============================] - 0s 45ms/step - loss: 7.3447e-04 - mae: 0.0191 - val_loss: 3.2590e-04 - val_mae: 0.0146\n",
      "Epoch 20/150\n",
      "7/7 [==============================] - 0s 37ms/step - loss: 7.3013e-04 - mae: 0.0191 - val_loss: 2.8795e-04 - val_mae: 0.0136\n",
      "Epoch 21/150\n",
      "7/7 [==============================] - 0s 37ms/step - loss: 7.1514e-04 - mae: 0.0188 - val_loss: 2.6456e-04 - val_mae: 0.0129\n",
      "Epoch 22/150\n",
      "7/7 [==============================] - 0s 38ms/step - loss: 7.0833e-04 - mae: 0.0188 - val_loss: 2.5833e-04 - val_mae: 0.0127\n",
      "Epoch 23/150\n",
      "7/7 [==============================] - 0s 48ms/step - loss: 7.1558e-04 - mae: 0.0188 - val_loss: 2.4879e-04 - val_mae: 0.0125\n",
      "Epoch 24/150\n",
      "7/7 [==============================] - 0s 40ms/step - loss: 6.7249e-04 - mae: 0.0180 - val_loss: 2.5397e-04 - val_mae: 0.0126\n",
      "Epoch 25/150\n",
      "7/7 [==============================] - 0s 37ms/step - loss: 6.6944e-04 - mae: 0.0180 - val_loss: 2.4972e-04 - val_mae: 0.0125\n",
      "Epoch 26/150\n",
      "7/7 [==============================] - 0s 37ms/step - loss: 6.7908e-04 - mae: 0.0182 - val_loss: 2.5062e-04 - val_mae: 0.0126\n",
      "Epoch 27/150\n",
      "7/7 [==============================] - 0s 39ms/step - loss: 6.6538e-04 - mae: 0.0179 - val_loss: 2.5227e-04 - val_mae: 0.0126\n",
      "Epoch 28/150\n",
      "7/7 [==============================] - 0s 34ms/step - loss: 6.5154e-04 - mae: 0.0176 - val_loss: 2.6130e-04 - val_mae: 0.0129\n",
      "Epoch 29/150\n",
      "7/7 [==============================] - 0s 42ms/step - loss: 6.5418e-04 - mae: 0.0178 - val_loss: 2.3631e-04 - val_mae: 0.0122\n",
      "Epoch 30/150\n",
      "7/7 [==============================] - 0s 30ms/step - loss: 6.5595e-04 - mae: 0.0177 - val_loss: 2.4456e-04 - val_mae: 0.0124\n",
      "Epoch 31/150\n",
      "7/7 [==============================] - 0s 39ms/step - loss: 6.4118e-04 - mae: 0.0175 - val_loss: 2.3029e-04 - val_mae: 0.0120\n",
      "Epoch 32/150\n",
      "7/7 [==============================] - 0s 37ms/step - loss: 6.5211e-04 - mae: 0.0178 - val_loss: 2.2133e-04 - val_mae: 0.0118\n",
      "Epoch 33/150\n",
      "7/7 [==============================] - 0s 43ms/step - loss: 6.5100e-04 - mae: 0.0176 - val_loss: 2.5113e-04 - val_mae: 0.0126\n",
      "Epoch 34/150\n",
      "7/7 [==============================] - 0s 39ms/step - loss: 6.5089e-04 - mae: 0.0178 - val_loss: 2.1486e-04 - val_mae: 0.0116\n",
      "Epoch 35/150\n",
      "7/7 [==============================] - 0s 44ms/step - loss: 6.2729e-04 - mae: 0.0172 - val_loss: 2.1269e-04 - val_mae: 0.0115\n",
      "Epoch 36/150\n",
      "7/7 [==============================] - 0s 48ms/step - loss: 6.3141e-04 - mae: 0.0173 - val_loss: 2.4744e-04 - val_mae: 0.0125\n",
      "Epoch 37/150\n",
      "7/7 [==============================] - 0s 50ms/step - loss: 6.2605e-04 - mae: 0.0173 - val_loss: 2.0732e-04 - val_mae: 0.0114\n",
      "Epoch 38/150\n",
      "7/7 [==============================] - 0s 40ms/step - loss: 6.1952e-04 - mae: 0.0171 - val_loss: 2.0265e-04 - val_mae: 0.0113\n",
      "Epoch 39/150\n",
      "7/7 [==============================] - 0s 38ms/step - loss: 6.1782e-04 - mae: 0.0170 - val_loss: 2.1392e-04 - val_mae: 0.0115\n",
      "Epoch 40/150\n",
      "7/7 [==============================] - 0s 45ms/step - loss: 6.2413e-04 - mae: 0.0173 - val_loss: 2.4129e-04 - val_mae: 0.0123\n",
      "Epoch 41/150\n",
      "7/7 [==============================] - 0s 32ms/step - loss: 6.1644e-04 - mae: 0.0172 - val_loss: 1.9620e-04 - val_mae: 0.0111\n",
      "Epoch 42/150\n",
      "7/7 [==============================] - 0s 40ms/step - loss: 6.0480e-04 - mae: 0.0168 - val_loss: 2.0601e-04 - val_mae: 0.0113\n",
      "Epoch 43/150\n",
      "7/7 [==============================] - 0s 40ms/step - loss: 5.9213e-04 - mae: 0.0167 - val_loss: 2.0853e-04 - val_mae: 0.0114\n",
      "Epoch 44/150\n",
      "7/7 [==============================] - 0s 41ms/step - loss: 6.1910e-04 - mae: 0.0173 - val_loss: 1.9147e-04 - val_mae: 0.0109\n",
      "Epoch 45/150\n",
      "7/7 [==============================] - 0s 34ms/step - loss: 6.1889e-04 - mae: 0.0173 - val_loss: 2.1816e-04 - val_mae: 0.0116\n",
      "Epoch 46/150\n",
      "7/7 [==============================] - 0s 33ms/step - loss: 5.8206e-04 - mae: 0.0164 - val_loss: 1.8489e-04 - val_mae: 0.0107\n",
      "Epoch 47/150\n",
      "7/7 [==============================] - 0s 33ms/step - loss: 5.8594e-04 - mae: 0.0165 - val_loss: 1.8099e-04 - val_mae: 0.0106\n",
      "Epoch 48/150\n",
      "7/7 [==============================] - 0s 40ms/step - loss: 5.7516e-04 - mae: 0.0163 - val_loss: 2.1661e-04 - val_mae: 0.0116\n",
      "Epoch 49/150\n",
      "7/7 [==============================] - 0s 34ms/step - loss: 5.7010e-04 - mae: 0.0163 - val_loss: 1.7783e-04 - val_mae: 0.0105\n",
      "Epoch 50/150\n",
      "7/7 [==============================] - 0s 44ms/step - loss: 5.7776e-04 - mae: 0.0164 - val_loss: 1.8126e-04 - val_mae: 0.0105\n",
      "Epoch 51/150\n",
      "7/7 [==============================] - 0s 43ms/step - loss: 5.5579e-04 - mae: 0.0160 - val_loss: 1.7181e-04 - val_mae: 0.0103\n",
      "Epoch 52/150\n",
      "7/7 [==============================] - 0s 37ms/step - loss: 5.4642e-04 - mae: 0.0158 - val_loss: 1.7038e-04 - val_mae: 0.0102\n",
      "Epoch 53/150\n",
      "7/7 [==============================] - 0s 40ms/step - loss: 5.5597e-04 - mae: 0.0159 - val_loss: 1.7648e-04 - val_mae: 0.0104\n",
      "Epoch 54/150\n",
      "7/7 [==============================] - 0s 53ms/step - loss: 5.4152e-04 - mae: 0.0156 - val_loss: 1.7272e-04 - val_mae: 0.0103\n",
      "Epoch 55/150\n",
      "7/7 [==============================] - 0s 42ms/step - loss: 5.4508e-04 - mae: 0.0159 - val_loss: 1.6505e-04 - val_mae: 0.0101\n",
      "Epoch 56/150\n",
      "7/7 [==============================] - 0s 42ms/step - loss: 5.6909e-04 - mae: 0.0163 - val_loss: 1.8678e-04 - val_mae: 0.0107\n",
      "Epoch 57/150\n",
      "7/7 [==============================] - 0s 44ms/step - loss: 6.0819e-04 - mae: 0.0170 - val_loss: 2.2272e-04 - val_mae: 0.0118\n",
      "Epoch 58/150\n",
      "7/7 [==============================] - 0s 43ms/step - loss: 6.0082e-04 - mae: 0.0171 - val_loss: 1.5789e-04 - val_mae: 0.0098\n",
      "Epoch 59/150\n",
      "7/7 [==============================] - 0s 39ms/step - loss: 5.9544e-04 - mae: 0.0170 - val_loss: 1.8208e-04 - val_mae: 0.0108\n",
      "Epoch 60/150\n",
      "7/7 [==============================] - 0s 39ms/step - loss: 5.9689e-04 - mae: 0.0169 - val_loss: 1.6988e-04 - val_mae: 0.0101\n",
      "Epoch 61/150\n",
      "7/7 [==============================] - 0s 41ms/step - loss: 5.7046e-04 - mae: 0.0164 - val_loss: 2.2215e-04 - val_mae: 0.0118\n",
      "Epoch 62/150\n",
      "7/7 [==============================] - 0s 32ms/step - loss: 5.6156e-04 - mae: 0.0163 - val_loss: 1.5209e-04 - val_mae: 0.0097\n",
      "Epoch 63/150\n",
      "7/7 [==============================] - 0s 57ms/step - loss: 6.0791e-04 - mae: 0.0172 - val_loss: 1.9633e-04 - val_mae: 0.0113\n",
      "Epoch 64/150\n",
      "7/7 [==============================] - 0s 37ms/step - loss: 6.3370e-04 - mae: 0.0178 - val_loss: 1.9621e-04 - val_mae: 0.0110\n",
      "Epoch 65/150\n",
      "7/7 [==============================] - 0s 38ms/step - loss: 5.8405e-04 - mae: 0.0167 - val_loss: 1.7658e-04 - val_mae: 0.0104\n",
      "Epoch 66/150\n",
      "7/7 [==============================] - 0s 31ms/step - loss: 5.4660e-04 - mae: 0.0160 - val_loss: 1.6642e-04 - val_mae: 0.0102\n",
      "Epoch 67/150\n",
      "7/7 [==============================] - 0s 41ms/step - loss: 5.1297e-04 - mae: 0.0152 - val_loss: 1.7022e-04 - val_mae: 0.0102\n",
      "Epoch 68/150\n",
      "7/7 [==============================] - 0s 49ms/step - loss: 5.5025e-04 - mae: 0.0161 - val_loss: 1.6844e-04 - val_mae: 0.0101\n",
      "Epoch 69/150\n",
      "7/7 [==============================] - 0s 39ms/step - loss: 5.1250e-04 - mae: 0.0151 - val_loss: 1.4064e-04 - val_mae: 0.0092\n",
      "Epoch 70/150\n",
      "7/7 [==============================] - 0s 38ms/step - loss: 4.9037e-04 - mae: 0.0147 - val_loss: 1.3920e-04 - val_mae: 0.0092\n",
      "Epoch 71/150\n",
      "7/7 [==============================] - 0s 43ms/step - loss: 4.8255e-04 - mae: 0.0145 - val_loss: 1.4958e-04 - val_mae: 0.0095\n",
      "Epoch 72/150\n",
      "7/7 [==============================] - 0s 41ms/step - loss: 4.7204e-04 - mae: 0.0141 - val_loss: 1.6816e-04 - val_mae: 0.0101\n",
      "Epoch 73/150\n",
      "7/7 [==============================] - 0s 45ms/step - loss: 5.3303e-04 - mae: 0.0156 - val_loss: 1.5616e-04 - val_mae: 0.0097\n",
      "Epoch 74/150\n",
      "7/7 [==============================] - 0s 47ms/step - loss: 5.4447e-04 - mae: 0.0160 - val_loss: 1.3400e-04 - val_mae: 0.0089\n",
      "Epoch 75/150\n",
      "7/7 [==============================] - 0s 46ms/step - loss: 4.9171e-04 - mae: 0.0145 - val_loss: 1.3275e-04 - val_mae: 0.0089\n",
      "Epoch 76/150\n",
      "7/7 [==============================] - 0s 57ms/step - loss: 4.5687e-04 - mae: 0.0137 - val_loss: 1.3337e-04 - val_mae: 0.0089\n",
      "Epoch 77/150\n",
      "7/7 [==============================] - 0s 65ms/step - loss: 4.5398e-04 - mae: 0.0136 - val_loss: 1.4613e-04 - val_mae: 0.0094\n",
      "Epoch 78/150\n",
      "7/7 [==============================] - 0s 41ms/step - loss: 4.5363e-04 - mae: 0.0136 - val_loss: 1.4026e-04 - val_mae: 0.0091\n",
      "Epoch 79/150\n",
      "7/7 [==============================] - 0s 48ms/step - loss: 4.6177e-04 - mae: 0.0137 - val_loss: 1.3994e-04 - val_mae: 0.0091\n",
      "Epoch 80/150\n",
      "7/7 [==============================] - 0s 32ms/step - loss: 4.6050e-04 - mae: 0.0137 - val_loss: 1.2594e-04 - val_mae: 0.0087\n",
      "Epoch 81/150\n",
      "7/7 [==============================] - 0s 47ms/step - loss: 4.5524e-04 - mae: 0.0138 - val_loss: 1.2628e-04 - val_mae: 0.0087\n",
      "Epoch 82/150\n",
      "7/7 [==============================] - 0s 42ms/step - loss: 5.3251e-04 - mae: 0.0157 - val_loss: 2.0897e-04 - val_mae: 0.0116\n",
      "Epoch 83/150\n",
      "7/7 [==============================] - 0s 56ms/step - loss: 5.6901e-04 - mae: 0.0163 - val_loss: 1.3274e-04 - val_mae: 0.0090\n",
      "Epoch 84/150\n",
      "7/7 [==============================] - 0s 54ms/step - loss: 4.5229e-04 - mae: 0.0133 - val_loss: 1.2520e-04 - val_mae: 0.0086\n",
      "Epoch 85/150\n",
      "7/7 [==============================] - 0s 57ms/step - loss: 4.8133e-04 - mae: 0.0141 - val_loss: 1.9134e-04 - val_mae: 0.0111\n",
      "Epoch 86/150\n",
      "7/7 [==============================] - 0s 52ms/step - loss: 5.1882e-04 - mae: 0.0153 - val_loss: 1.7054e-04 - val_mae: 0.0103\n",
      "Epoch 87/150\n",
      "7/7 [==============================] - 0s 38ms/step - loss: 4.4637e-04 - mae: 0.0134 - val_loss: 1.2943e-04 - val_mae: 0.0088\n",
      "Epoch 88/150\n",
      "7/7 [==============================] - 0s 41ms/step - loss: 4.2770e-04 - mae: 0.0128 - val_loss: 1.2134e-04 - val_mae: 0.0085\n",
      "Epoch 89/150\n",
      "7/7 [==============================] - 0s 32ms/step - loss: 4.2294e-04 - mae: 0.0127 - val_loss: 1.2123e-04 - val_mae: 0.0085\n",
      "Epoch 90/150\n",
      "7/7 [==============================] - 0s 60ms/step - loss: 4.3798e-04 - mae: 0.0131 - val_loss: 1.3468e-04 - val_mae: 0.0091\n",
      "Epoch 91/150\n",
      "7/7 [==============================] - 0s 59ms/step - loss: 4.9586e-04 - mae: 0.0147 - val_loss: 1.1853e-04 - val_mae: 0.0084\n",
      "Epoch 92/150\n",
      "7/7 [==============================] - 0s 48ms/step - loss: 4.3661e-04 - mae: 0.0130 - val_loss: 1.1921e-04 - val_mae: 0.0084\n",
      "Epoch 93/150\n",
      "7/7 [==============================] - 0s 61ms/step - loss: 4.8010e-04 - mae: 0.0143 - val_loss: 1.3934e-04 - val_mae: 0.0092\n",
      "Epoch 94/150\n",
      "7/7 [==============================] - 0s 35ms/step - loss: 4.5535e-04 - mae: 0.0136 - val_loss: 1.3542e-04 - val_mae: 0.0091\n",
      "Epoch 95/150\n",
      "7/7 [==============================] - 0s 41ms/step - loss: 5.2750e-04 - mae: 0.0153 - val_loss: 1.4798e-04 - val_mae: 0.0097\n",
      "Epoch 96/150\n",
      "7/7 [==============================] - 0s 29ms/step - loss: 5.0097e-04 - mae: 0.0147 - val_loss: 1.2143e-04 - val_mae: 0.0085\n",
      "Epoch 97/150\n",
      "7/7 [==============================] - 0s 45ms/step - loss: 4.5670e-04 - mae: 0.0137 - val_loss: 1.2669e-04 - val_mae: 0.0088\n",
      "Epoch 98/150\n",
      "7/7 [==============================] - 0s 42ms/step - loss: 5.2585e-04 - mae: 0.0153 - val_loss: 1.5105e-04 - val_mae: 0.0097\n",
      "Epoch 99/150\n",
      "7/7 [==============================] - 0s 39ms/step - loss: 4.9751e-04 - mae: 0.0149 - val_loss: 1.1611e-04 - val_mae: 0.0083\n",
      "Epoch 100/150\n",
      "7/7 [==============================] - 0s 35ms/step - loss: 4.6576e-04 - mae: 0.0138 - val_loss: 1.1609e-04 - val_mae: 0.0083\n",
      "Epoch 101/150\n",
      "7/7 [==============================] - 0s 37ms/step - loss: 4.2146e-04 - mae: 0.0126 - val_loss: 1.1563e-04 - val_mae: 0.0083\n",
      "Epoch 102/150\n",
      "7/7 [==============================] - 0s 41ms/step - loss: 4.3317e-04 - mae: 0.0130 - val_loss: 1.3668e-04 - val_mae: 0.0092\n",
      "Epoch 103/150\n",
      "7/7 [==============================] - 0s 41ms/step - loss: 4.3084e-04 - mae: 0.0130 - val_loss: 1.1324e-04 - val_mae: 0.0082\n",
      "Epoch 104/150\n",
      "7/7 [==============================] - 0s 46ms/step - loss: 4.3893e-04 - mae: 0.0130 - val_loss: 1.2018e-04 - val_mae: 0.0085\n",
      "Epoch 105/150\n",
      "7/7 [==============================] - 0s 39ms/step - loss: 4.5520e-04 - mae: 0.0132 - val_loss: 1.1093e-04 - val_mae: 0.0081\n",
      "Epoch 106/150\n",
      "7/7 [==============================] - 0s 38ms/step - loss: 4.3263e-04 - mae: 0.0129 - val_loss: 1.1076e-04 - val_mae: 0.0081\n",
      "Epoch 107/150\n",
      "7/7 [==============================] - 0s 43ms/step - loss: 4.5928e-04 - mae: 0.0133 - val_loss: 1.3767e-04 - val_mae: 0.0092\n",
      "Epoch 108/150\n",
      "7/7 [==============================] - 0s 59ms/step - loss: 4.1956e-04 - mae: 0.0125 - val_loss: 1.1361e-04 - val_mae: 0.0082\n",
      "Epoch 109/150\n",
      "7/7 [==============================] - 0s 34ms/step - loss: 4.1773e-04 - mae: 0.0123 - val_loss: 1.1086e-04 - val_mae: 0.0081\n",
      "Epoch 110/150\n",
      "7/7 [==============================] - 0s 36ms/step - loss: 4.0820e-04 - mae: 0.0120 - val_loss: 1.3128e-04 - val_mae: 0.0090\n",
      "Epoch 111/150\n",
      "7/7 [==============================] - 0s 36ms/step - loss: 4.6796e-04 - mae: 0.0139 - val_loss: 1.6320e-04 - val_mae: 0.0102\n",
      "Epoch 112/150\n",
      "7/7 [==============================] - 0s 41ms/step - loss: 4.6464e-04 - mae: 0.0138 - val_loss: 1.8097e-04 - val_mae: 0.0109\n",
      "Epoch 113/150\n",
      "7/7 [==============================] - 0s 43ms/step - loss: 5.0518e-04 - mae: 0.0145 - val_loss: 1.1173e-04 - val_mae: 0.0081\n",
      "Epoch 114/150\n",
      "7/7 [==============================] - 0s 38ms/step - loss: 4.1874e-04 - mae: 0.0124 - val_loss: 1.1536e-04 - val_mae: 0.0083\n",
      "Epoch 115/150\n",
      "7/7 [==============================] - 0s 40ms/step - loss: 4.0990e-04 - mae: 0.0120 - val_loss: 1.0669e-04 - val_mae: 0.0079\n",
      "Epoch 116/150\n",
      "7/7 [==============================] - 0s 32ms/step - loss: 4.2179e-04 - mae: 0.0123 - val_loss: 1.0674e-04 - val_mae: 0.0079\n",
      "Epoch 117/150\n",
      "7/7 [==============================] - 0s 40ms/step - loss: 4.1031e-04 - mae: 0.0119 - val_loss: 1.1008e-04 - val_mae: 0.0081\n",
      "Epoch 118/150\n",
      "7/7 [==============================] - 0s 28ms/step - loss: 4.0458e-04 - mae: 0.0118 - val_loss: 1.0619e-04 - val_mae: 0.0079\n",
      "Epoch 119/150\n",
      "7/7 [==============================] - 0s 35ms/step - loss: 4.1130e-04 - mae: 0.0119 - val_loss: 1.0379e-04 - val_mae: 0.0078\n",
      "Epoch 120/150\n",
      "7/7 [==============================] - 0s 34ms/step - loss: 4.2171e-04 - mae: 0.0124 - val_loss: 1.0650e-04 - val_mae: 0.0079\n",
      "Epoch 121/150\n",
      "7/7 [==============================] - 0s 48ms/step - loss: 4.0928e-04 - mae: 0.0119 - val_loss: 1.0322e-04 - val_mae: 0.0077\n",
      "Epoch 122/150\n",
      "7/7 [==============================] - 0s 28ms/step - loss: 4.5836e-04 - mae: 0.0135 - val_loss: 1.1813e-04 - val_mae: 0.0084\n",
      "Epoch 123/150\n",
      "7/7 [==============================] - 0s 39ms/step - loss: 5.3354e-04 - mae: 0.0154 - val_loss: 1.1326e-04 - val_mae: 0.0082\n",
      "Epoch 124/150\n",
      "7/7 [==============================] - 0s 33ms/step - loss: 5.0447e-04 - mae: 0.0148 - val_loss: 1.0360e-04 - val_mae: 0.0078\n",
      "Epoch 125/150\n",
      "7/7 [==============================] - 0s 37ms/step - loss: 4.2464e-04 - mae: 0.0125 - val_loss: 1.0836e-04 - val_mae: 0.0080\n",
      "Epoch 126/150\n",
      "7/7 [==============================] - 0s 40ms/step - loss: 4.0927e-04 - mae: 0.0122 - val_loss: 1.0982e-04 - val_mae: 0.0081\n",
      "Epoch 127/150\n",
      "7/7 [==============================] - 0s 37ms/step - loss: 4.1315e-04 - mae: 0.0120 - val_loss: 1.0720e-04 - val_mae: 0.0079\n",
      "Epoch 128/150\n",
      "7/7 [==============================] - 0s 40ms/step - loss: 4.2782e-04 - mae: 0.0127 - val_loss: 1.0819e-04 - val_mae: 0.0080\n",
      "Epoch 129/150\n",
      "7/7 [==============================] - 0s 36ms/step - loss: 4.2796e-04 - mae: 0.0124 - val_loss: 1.0211e-04 - val_mae: 0.0077\n",
      "Epoch 130/150\n",
      "7/7 [==============================] - 0s 37ms/step - loss: 4.0517e-04 - mae: 0.0118 - val_loss: 1.1455e-04 - val_mae: 0.0083\n",
      "Epoch 131/150\n",
      "7/7 [==============================] - 0s 37ms/step - loss: 4.0236e-04 - mae: 0.0119 - val_loss: 1.0042e-04 - val_mae: 0.0076\n",
      "Epoch 132/150\n",
      "7/7 [==============================] - 0s 32ms/step - loss: 4.0645e-04 - mae: 0.0119 - val_loss: 9.9805e-05 - val_mae: 0.0076\n",
      "Epoch 133/150\n",
      "7/7 [==============================] - 0s 32ms/step - loss: 4.2927e-04 - mae: 0.0125 - val_loss: 1.2816e-04 - val_mae: 0.0089\n",
      "Epoch 134/150\n",
      "7/7 [==============================] - 0s 33ms/step - loss: 5.0816e-04 - mae: 0.0146 - val_loss: 1.9923e-04 - val_mae: 0.0116\n",
      "Epoch 135/150\n",
      "7/7 [==============================] - 0s 30ms/step - loss: 4.9631e-04 - mae: 0.0145 - val_loss: 1.0366e-04 - val_mae: 0.0078\n",
      "Epoch 136/150\n",
      "7/7 [==============================] - 0s 34ms/step - loss: 4.3441e-04 - mae: 0.0129 - val_loss: 1.0104e-04 - val_mae: 0.0076\n",
      "Epoch 137/150\n",
      "7/7 [==============================] - 0s 29ms/step - loss: 3.9538e-04 - mae: 0.0116 - val_loss: 1.1116e-04 - val_mae: 0.0082\n",
      "Epoch 138/150\n",
      "7/7 [==============================] - 0s 31ms/step - loss: 4.0677e-04 - mae: 0.0118 - val_loss: 9.9636e-05 - val_mae: 0.0076\n",
      "Epoch 139/150\n",
      "7/7 [==============================] - 0s 37ms/step - loss: 4.1048e-04 - mae: 0.0120 - val_loss: 1.1096e-04 - val_mae: 0.0082\n",
      "Epoch 140/150\n",
      "7/7 [==============================] - 0s 34ms/step - loss: 4.1662e-04 - mae: 0.0120 - val_loss: 9.8189e-05 - val_mae: 0.0075\n",
      "Epoch 141/150\n",
      "7/7 [==============================] - 0s 29ms/step - loss: 4.0964e-04 - mae: 0.0120 - val_loss: 1.0449e-04 - val_mae: 0.0079\n",
      "Epoch 142/150\n",
      "7/7 [==============================] - 0s 32ms/step - loss: 3.9557e-04 - mae: 0.0115 - val_loss: 9.8204e-05 - val_mae: 0.0076\n",
      "Epoch 143/150\n",
      "7/7 [==============================] - 0s 37ms/step - loss: 4.1361e-04 - mae: 0.0119 - val_loss: 1.0815e-04 - val_mae: 0.0081\n",
      "Epoch 144/150\n",
      "7/7 [==============================] - 0s 34ms/step - loss: 4.0630e-04 - mae: 0.0118 - val_loss: 9.5942e-05 - val_mae: 0.0074\n",
      "Epoch 145/150\n",
      "7/7 [==============================] - 0s 41ms/step - loss: 4.0038e-04 - mae: 0.0117 - val_loss: 9.9975e-05 - val_mae: 0.0076\n",
      "Epoch 146/150\n",
      "7/7 [==============================] - 0s 41ms/step - loss: 3.9155e-04 - mae: 0.0114 - val_loss: 9.5547e-05 - val_mae: 0.0075\n",
      "Epoch 147/150\n",
      "7/7 [==============================] - 0s 37ms/step - loss: 4.1063e-04 - mae: 0.0120 - val_loss: 9.4883e-05 - val_mae: 0.0074\n",
      "Epoch 148/150\n",
      "7/7 [==============================] - 0s 36ms/step - loss: 3.9375e-04 - mae: 0.0114 - val_loss: 1.3375e-04 - val_mae: 0.0092\n",
      "Epoch 149/150\n",
      "7/7 [==============================] - 0s 40ms/step - loss: 4.1831e-04 - mae: 0.0122 - val_loss: 9.8804e-05 - val_mae: 0.0077\n",
      "Epoch 150/150\n",
      "7/7 [==============================] - 0s 35ms/step - loss: 3.9891e-04 - mae: 0.0116 - val_loss: 1.2232e-04 - val_mae: 0.0087\n",
      "> Compilation Time :  45.57981777191162\n"
     ]
    }
   ],
   "source": [
    "#n_epochs =100\n",
    "#valid_score = 0.2\n",
    "start = time.time()\n",
    "np.random.seed(1)\n",
    "result2 = model2.fit(xtrain,ytrain,batch_size=300,epochs=150,validation_data=(xvalid,yvalid), verbose = 1)\n",
    "print(\"> Compilation Time : \", time.time() - start)"
   ]
  },
  {
   "cell_type": "code",
   "execution_count": null,
   "metadata": {
    "colab": {
     "base_uri": "https://localhost:8080/",
     "height": 270
    },
    "id": "ul_XertyTPDo",
    "outputId": "a175ed64-c3e8-46dd-be9a-3a30dcfad9d9"
   },
   "outputs": [
    {
     "data": {
      "text/html": [
       "\n",
       "  <div id=\"df-98744ae5-b13f-4c3d-8387-93baa0b6c08f\">\n",
       "    <div class=\"colab-df-container\">\n",
       "      <div>\n",
       "<style scoped>\n",
       "    .dataframe tbody tr th:only-of-type {\n",
       "        vertical-align: middle;\n",
       "    }\n",
       "\n",
       "    .dataframe tbody tr th {\n",
       "        vertical-align: top;\n",
       "    }\n",
       "\n",
       "    .dataframe thead th {\n",
       "        text-align: right;\n",
       "    }\n",
       "</style>\n",
       "<table border=\"1\" class=\"dataframe\">\n",
       "  <thead>\n",
       "    <tr style=\"text-align: right;\">\n",
       "      <th></th>\n",
       "      <th>loss</th>\n",
       "      <th>mae</th>\n",
       "      <th>val_loss</th>\n",
       "      <th>val_mae</th>\n",
       "    </tr>\n",
       "  </thead>\n",
       "  <tbody>\n",
       "    <tr>\n",
       "      <th>145</th>\n",
       "      <td>0.000392</td>\n",
       "      <td>0.011366</td>\n",
       "      <td>0.000096</td>\n",
       "      <td>0.007453</td>\n",
       "    </tr>\n",
       "    <tr>\n",
       "      <th>146</th>\n",
       "      <td>0.000411</td>\n",
       "      <td>0.012000</td>\n",
       "      <td>0.000095</td>\n",
       "      <td>0.007393</td>\n",
       "    </tr>\n",
       "    <tr>\n",
       "      <th>147</th>\n",
       "      <td>0.000394</td>\n",
       "      <td>0.011421</td>\n",
       "      <td>0.000134</td>\n",
       "      <td>0.009224</td>\n",
       "    </tr>\n",
       "    <tr>\n",
       "      <th>148</th>\n",
       "      <td>0.000418</td>\n",
       "      <td>0.012154</td>\n",
       "      <td>0.000099</td>\n",
       "      <td>0.007656</td>\n",
       "    </tr>\n",
       "    <tr>\n",
       "      <th>149</th>\n",
       "      <td>0.000399</td>\n",
       "      <td>0.011564</td>\n",
       "      <td>0.000122</td>\n",
       "      <td>0.008729</td>\n",
       "    </tr>\n",
       "  </tbody>\n",
       "</table>\n",
       "</div>\n",
       "      <button class=\"colab-df-convert\" onclick=\"convertToInteractive('df-98744ae5-b13f-4c3d-8387-93baa0b6c08f')\"\n",
       "              title=\"Convert this dataframe to an interactive table.\"\n",
       "              style=\"display:none;\">\n",
       "        \n",
       "  <svg xmlns=\"http://www.w3.org/2000/svg\" height=\"24px\"viewBox=\"0 0 24 24\"\n",
       "       width=\"24px\">\n",
       "    <path d=\"M0 0h24v24H0V0z\" fill=\"none\"/>\n",
       "    <path d=\"M18.56 5.44l.94 2.06.94-2.06 2.06-.94-2.06-.94-.94-2.06-.94 2.06-2.06.94zm-11 1L8.5 8.5l.94-2.06 2.06-.94-2.06-.94L8.5 2.5l-.94 2.06-2.06.94zm10 10l.94 2.06.94-2.06 2.06-.94-2.06-.94-.94-2.06-.94 2.06-2.06.94z\"/><path d=\"M17.41 7.96l-1.37-1.37c-.4-.4-.92-.59-1.43-.59-.52 0-1.04.2-1.43.59L10.3 9.45l-7.72 7.72c-.78.78-.78 2.05 0 2.83L4 21.41c.39.39.9.59 1.41.59.51 0 1.02-.2 1.41-.59l7.78-7.78 2.81-2.81c.8-.78.8-2.07 0-2.86zM5.41 20L4 18.59l7.72-7.72 1.47 1.35L5.41 20z\"/>\n",
       "  </svg>\n",
       "      </button>\n",
       "      \n",
       "  <style>\n",
       "    .colab-df-container {\n",
       "      display:flex;\n",
       "      flex-wrap:wrap;\n",
       "      gap: 12px;\n",
       "    }\n",
       "\n",
       "    .colab-df-convert {\n",
       "      background-color: #E8F0FE;\n",
       "      border: none;\n",
       "      border-radius: 50%;\n",
       "      cursor: pointer;\n",
       "      display: none;\n",
       "      fill: #1967D2;\n",
       "      height: 32px;\n",
       "      padding: 0 0 0 0;\n",
       "      width: 32px;\n",
       "    }\n",
       "\n",
       "    .colab-df-convert:hover {\n",
       "      background-color: #E2EBFA;\n",
       "      box-shadow: 0px 1px 2px rgba(60, 64, 67, 0.3), 0px 1px 3px 1px rgba(60, 64, 67, 0.15);\n",
       "      fill: #174EA6;\n",
       "    }\n",
       "\n",
       "    [theme=dark] .colab-df-convert {\n",
       "      background-color: #3B4455;\n",
       "      fill: #D2E3FC;\n",
       "    }\n",
       "\n",
       "    [theme=dark] .colab-df-convert:hover {\n",
       "      background-color: #434B5C;\n",
       "      box-shadow: 0px 1px 3px 1px rgba(0, 0, 0, 0.15);\n",
       "      filter: drop-shadow(0px 1px 2px rgba(0, 0, 0, 0.3));\n",
       "      fill: #FFFFFF;\n",
       "    }\n",
       "  </style>\n",
       "\n",
       "      <script>\n",
       "        const buttonEl =\n",
       "          document.querySelector('#df-98744ae5-b13f-4c3d-8387-93baa0b6c08f button.colab-df-convert');\n",
       "        buttonEl.style.display =\n",
       "          google.colab.kernel.accessAllowed ? 'block' : 'none';\n",
       "\n",
       "        async function convertToInteractive(key) {\n",
       "          const element = document.querySelector('#df-98744ae5-b13f-4c3d-8387-93baa0b6c08f');\n",
       "          const dataTable =\n",
       "            await google.colab.kernel.invokeFunction('convertToInteractive',\n",
       "                                                     [key], {});\n",
       "          if (!dataTable) return;\n",
       "\n",
       "          const docLinkHtml = 'Like what you see? Visit the ' +\n",
       "            '<a target=\"_blank\" href=https://colab.research.google.com/notebooks/data_table.ipynb>data table notebook</a>'\n",
       "            + ' to learn more about interactive tables.';\n",
       "          element.innerHTML = '';\n",
       "          dataTable['output_type'] = 'display_data';\n",
       "          await google.colab.output.renderOutput(dataTable, element);\n",
       "          const docLink = document.createElement('div');\n",
       "          docLink.innerHTML = docLinkHtml;\n",
       "          element.appendChild(docLink);\n",
       "        }\n",
       "      </script>\n",
       "    </div>\n",
       "  </div>\n",
       "  "
      ],
      "text/plain": [
       "         loss       mae  val_loss   val_mae\n",
       "145  0.000392  0.011366  0.000096  0.007453\n",
       "146  0.000411  0.012000  0.000095  0.007393\n",
       "147  0.000394  0.011421  0.000134  0.009224\n",
       "148  0.000418  0.012154  0.000099  0.007656\n",
       "149  0.000399  0.011564  0.000122  0.008729"
      ]
     },
     "execution_count": 38,
     "metadata": {},
     "output_type": "execute_result"
    }
   ],
   "source": [
    "df2 = pd.DataFrame(result2.history)\n",
    "df2.tail()"
   ]
  },
  {
   "cell_type": "code",
   "execution_count": null,
   "metadata": {
    "colab": {
     "base_uri": "https://localhost:8080/",
     "height": 92
    },
    "id": "aAiABEXBTPDo",
    "outputId": "0b1f082a-c247-46c5-dde0-97a8d2eefc80"
   },
   "outputs": [
    {
     "name": "stderr",
     "output_type": "stream",
     "text": [
      "The PostScript backend does not support transparency; partially transparent artists will be rendered opaque.\n",
      "The PostScript backend does not support transparency; partially transparent artists will be rendered opaque.\n"
     ]
    },
    {
     "data": {
      "image/png": "[encoded data removed]",
      "text/plain": [
       "<Figure size 648x360 with 1 Axes>"
      ]
     },
     "metadata": {
      "needs_background": "light"
     },
     "output_type": "display_data"
    }
   ],
   "source": [
    "plt.figure(figsize=(9,5))\n",
    "plt.plot(df2['loss'], label ='Training loss (MSE)', color = 'blue')\n",
    "plt.plot(df2['val_loss'], label='Validation loss (MSE)', color = 'orange')\n",
    "plt.xlabel('Mini-batch', fontsize=13)\n",
    "plt.ylabel('Loss', fontsize=13)\n",
    "plt.legend(fontsize=13)\n",
    "plt.savefig('LSTM1_error.eps', format='eps', dpi=1000)\n",
    "plt.show()"
   ]
  },
  {
   "cell_type": "markdown",
   "metadata": {
    "id": "Mxh98uwcTPDp"
   },
   "source": [
    " "
   ]
  },
  {
   "cell_type": "code",
   "execution_count": null,
   "metadata": {
    "collapsed": true,
    "id": "Sl-w-WU_TPDp"
   },
   "outputs": [],
   "source": []
  },
  {
   "cell_type": "markdown",
   "metadata": {
    "id": "x-eRk9NWTPDp"
   },
   "source": [
    "  "
   ]
  },
  {
   "cell_type": "markdown",
   "metadata": {
    "id": "shNHtmBMTPDp"
   },
   "source": [
    "### (ii.) Predictions"
   ]
  },
  {
   "cell_type": "code",
   "execution_count": null,
   "metadata": {
    "collapsed": true,
    "id": "tqh_DeGGTPDq"
   },
   "outputs": [],
   "source": [
    "# Doing a prediction on all the test data at once\n",
    "preds2 = model2.predict(xtest)"
   ]
  },
  {
   "cell_type": "markdown",
   "metadata": {
    "id": "ZgxL8KFETPDq"
   },
   "source": [
    " "
   ]
  },
  {
   "cell_type": "code",
   "execution_count": null,
   "metadata": {
    "colab": {
     "base_uri": "https://localhost:8080/",
     "height": 54
    },
    "id": "vExYVlGhTPDr",
    "outputId": "d966776e-cfd8-495d-d117-1c6341f2caab"
   },
   "outputs": [
    {
     "data": {
      "image/png": "[encoded data removed]",
      "text/plain": [
       "<Figure size 720x360 with 1 Axes>"
      ]
     },
     "metadata": {
      "needs_background": "light"
     },
     "output_type": "display_data"
    }
   ],
   "source": [
    "plt.figure(figsize=(10,5))\n",
    "plt.plot(ytest, label=\"Actual Price\", color = 'blue')\n",
    "plt.plot(preds2, label=\"LSTM\", color = 'red')\n",
    "plt.xlabel('Time (days)')\n",
    "plt.ylabel('Stock Price')\n",
    "plt.xlabel('Time (days)', fontsize=13)\n",
    "plt.ylabel('Stock Price', fontsize=13)\n",
    "plt.legend(fontsize=13)\n",
    "plt.show()"
   ]
  },
  {
   "cell_type": "code",
   "execution_count": null,
   "metadata": {
    "collapsed": true,
    "id": "aSzsfNQuTPDr"
   },
   "outputs": [],
   "source": [
    "real_pred2 = scaler2.inverse_transform(preds2)"
   ]
  },
  {
   "cell_type": "code",
   "execution_count": null,
   "metadata": {
    "id": "u9N2ql_fuVSc"
   },
   "outputs": [],
   "source": [
    "ytest=ytest.reshape(-1, 1)\n",
    "actuals = scaler2.inverse_transform(ytest)"
   ]
  },
  {
   "cell_type": "markdown",
   "metadata": {
    "id": "iCGvimNtTPDr"
   },
   "source": [
    "#### Plot of Actual Stock Prices"
   ]
  },
  {
   "cell_type": "code",
   "execution_count": null,
   "metadata": {
    "colab": {
     "base_uri": "https://localhost:8080/",
     "height": 92
    },
    "id": "kX8mS2W6TPDr",
    "outputId": "0bc203e3-5a67-455a-9e45-95b9da1540b7"
   },
   "outputs": [
    {
     "name": "stderr",
     "output_type": "stream",
     "text": [
      "The PostScript backend does not support transparency; partially transparent artists will be rendered opaque.\n",
      "The PostScript backend does not support transparency; partially transparent artists will be rendered opaque.\n"
     ]
    },
    {
     "data": {
      "image/png": "[encoded data removed]",
      "text/plain": [
       "<Figure size 720x360 with 1 Axes>"
      ]
     },
     "metadata": {
      "needs_background": "light"
     },
     "output_type": "display_data"
    }
   ],
   "source": [
    "plt.figure(figsize=(10,5))\n",
    "plt.plot(actuals, label=\"Actual Price\", color = 'blue')\n",
    "plt.plot(real_pred2, label=\"LSTM\", color = 'red')\n",
    "plt.xlabel('Time (days)', fontsize=13)\n",
    "plt.ylabel('Stock Price', fontsize=13)\n",
    "plt.legend(fontsize=13)\n",
    "plt.savefig('LSTM_model1.eps', format='eps', dpi=1000)\n",
    "plt.show()"
   ]
  },
  {
   "cell_type": "markdown",
   "metadata": {
    "id": "-6_ff6pATPDs"
   },
   "source": [
    "### (iii.) LSTM Model MSE"
   ]
  },
  {
   "cell_type": "code",
   "execution_count": null,
   "metadata": {
    "colab": {
     "base_uri": "https://localhost:8080/"
    },
    "id": "lc0PvK_0TPDs",
    "outputId": "8f108e31-d6eb-46e3-8c11-d4bc16da4d41"
   },
   "outputs": [
    {
     "name": "stdout",
     "output_type": "stream",
     "text": [
      "The the mean squared error committed by the LSTM model is  3.0944125799737307e-05\n",
      "The squareroot of the mean squared error committed by the LSTM model is  0.0055627444485377275\n"
     ]
    }
   ],
   "source": [
    "print('The the mean squared error committed by the LSTM model is ', mean_squared_error(actuals,real_pred2))\n",
    "print('The squareroot of the mean squared error committed by the LSTM model is ', np.sqrt(mean_squared_error(actuals,real_pred2)))"
   ]
  },
  {
   "cell_type": "markdown",
   "metadata": {
    "id": "Pm_lPcl2TPDs"
   },
   "source": [
    "### (iv.) LSTM Model MAPE"
   ]
  },
  {
   "cell_type": "code",
   "execution_count": null,
   "metadata": {
    "id": "W4m1dR57vOEz"
   },
   "outputs": [],
   "source": [
    "def mean_absolute_percentage_error(y_true, y_pred): \n",
    "    y_true, y_pred = np.array(y_true), np.array(y_pred)\n",
    "    return np.mean(np.abs((y_true - y_pred) / y_pred)) * 100"
   ]
  },
  {
   "cell_type": "code",
   "execution_count": null,
   "metadata": {
    "colab": {
     "base_uri": "https://localhost:8080/"
    },
    "id": "TWzVUw2kTPDs",
    "outputId": "c9635b71-5016-40e4-9834-95bc5c7a5404"
   },
   "outputs": [
    {
     "name": "stdout",
     "output_type": "stream",
     "text": [
      "The the mean squared error committed by the  model is:  0.3855383404935366\n"
     ]
    }
   ],
   "source": [
    "print('The the mean squared error committed by the  model is: ', mean_absolute_percentage_error(actuals,real_pred2))"
   ]
  },
  {
   "cell_type": "markdown",
   "metadata": {
    "id": "WGoLWmr_TPDt"
   },
   "source": [
    "### (v.) RNN MAE"
   ]
  },
  {
   "cell_type": "code",
   "execution_count": null,
   "metadata": {
    "colab": {
     "base_uri": "https://localhost:8080/"
    },
    "id": "APtRk8mDTPDt",
    "outputId": "9d484ff1-89f9-4fdc-a162-a603b5bd34f4"
   },
   "outputs": [
    {
     "name": "stdout",
     "output_type": "stream",
     "text": [
      "The the mean absolute error committed by the standard RNN model is:  0.004399232282595677\n"
     ]
    }
   ],
   "source": [
    "print('The the mean absolute error committed by the standard RNN model is: ', mean_absolute_error(actuals,real_pred2))"
   ]
  },
  {
   "cell_type": "markdown",
   "metadata": {
    "id": "aL6rqCmoTPDt"
   },
   "source": [
    "## (C.) GRU Model"
   ]
  },
  {
   "cell_type": "code",
   "execution_count": null,
   "metadata": {
    "colab": {
     "base_uri": "https://localhost:8080/"
    },
    "id": "IcpeyhjH4jLy",
    "outputId": "41527dcc-b1e6-4c3d-f83c-39609546d36f"
   },
   "outputs": [
    {
     "name": "stdout",
     "output_type": "stream",
     "text": [
      "Requirement already satisfied: tensorflow in /usr/local/lib/python3.7/dist-packages (2.8.0)\n",
      "Requirement already satisfied: libclang>=9.0.1 in /usr/local/lib/python3.7/dist-packages (from tensorflow) (13.0.0)\n",
      "Requirement already satisfied: flatbuffers>=1.12 in /usr/local/lib/python3.7/dist-packages (from tensorflow) (2.0)\n",
      "Requirement already satisfied: six>=1.12.0 in /usr/local/lib/python3.7/dist-packages (from tensorflow) (1.15.0)\n",
      "Requirement already satisfied: opt-einsum>=2.3.2 in /usr/local/lib/python3.7/dist-packages (from tensorflow) (3.3.0)\n",
      "Requirement already satisfied: astunparse>=1.6.0 in /usr/local/lib/python3.7/dist-packages (from tensorflow) (1.6.3)\n",
      "Requirement already satisfied: absl-py>=0.4.0 in /usr/local/lib/python3.7/dist-packages (from tensorflow) (1.0.0)\n",
      "Requirement already satisfied: numpy>=1.20 in /usr/local/lib/python3.7/dist-packages (from tensorflow) (1.21.5)\n",
      "Requirement already satisfied: tensorboard<2.9,>=2.8 in /usr/local/lib/python3.7/dist-packages (from tensorflow) (2.8.0)\n",
      "Requirement already satisfied: protobuf>=3.9.2 in /usr/local/lib/python3.7/dist-packages (from tensorflow) (3.17.3)\n",
      "Requirement already satisfied: h5py>=2.9.0 in /usr/local/lib/python3.7/dist-packages (from tensorflow) (3.1.0)\n",
      "Requirement already satisfied: keras<2.9,>=2.8.0rc0 in /usr/local/lib/python3.7/dist-packages (from tensorflow) (2.8.0)\n",
      "Requirement already satisfied: typing-extensions>=3.6.6 in /usr/local/lib/python3.7/dist-packages (from tensorflow) (3.10.0.2)\n",
      "Requirement already satisfied: google-pasta>=0.1.1 in /usr/local/lib/python3.7/dist-packages (from tensorflow) (0.2.0)\n",
      "Requirement already satisfied: keras-preprocessing>=1.1.1 in /usr/local/lib/python3.7/dist-packages (from tensorflow) (1.1.2)\n",
      "Requirement already satisfied: setuptools in /usr/local/lib/python3.7/dist-packages (from tensorflow) (57.4.0)\n",
      "Requirement already satisfied: grpcio<2.0,>=1.24.3 in /usr/local/lib/python3.7/dist-packages (from tensorflow) (1.43.0)\n",
      "Requirement already satisfied: termcolor>=1.1.0 in /usr/local/lib/python3.7/dist-packages (from tensorflow) (1.1.0)\n",
      "Requirement already satisfied: tf-estimator-nightly==2.8.0.dev2021122109 in /usr/local/lib/python3.7/dist-packages (from tensorflow) (2.8.0.dev2021122109)\n",
      "Requirement already satisfied: tensorflow-io-gcs-filesystem>=0.23.1 in /usr/local/lib/python3.7/dist-packages (from tensorflow) (0.24.0)\n",
      "Requirement already satisfied: gast>=0.2.1 in /usr/local/lib/python3.7/dist-packages (from tensorflow) (0.5.3)\n",
      "Requirement already satisfied: wrapt>=1.11.0 in /usr/local/lib/python3.7/dist-packages (from tensorflow) (1.13.3)\n",
      "Requirement already satisfied: wheel<1.0,>=0.23.0 in /usr/local/lib/python3.7/dist-packages (from astunparse>=1.6.0->tensorflow) (0.37.1)\n",
      "Requirement already satisfied: cached-property in /usr/local/lib/python3.7/dist-packages (from h5py>=2.9.0->tensorflow) (1.5.2)\n",
      "Requirement already satisfied: tensorboard-data-server<0.7.0,>=0.6.0 in /usr/local/lib/python3.7/dist-packages (from tensorboard<2.9,>=2.8->tensorflow) (0.6.1)\n",
      "Requirement already satisfied: requests<3,>=2.21.0 in /usr/local/lib/python3.7/dist-packages (from tensorboard<2.9,>=2.8->tensorflow) (2.27.1)\n",
      "Requirement already satisfied: markdown>=2.6.8 in /usr/local/lib/python3.7/dist-packages (from tensorboard<2.9,>=2.8->tensorflow) (3.3.6)\n",
      "Requirement already satisfied: werkzeug>=0.11.15 in /usr/local/lib/python3.7/dist-packages (from tensorboard<2.9,>=2.8->tensorflow) (1.0.1)\n",
      "Requirement already satisfied: google-auth<3,>=1.6.3 in /usr/local/lib/python3.7/dist-packages (from tensorboard<2.9,>=2.8->tensorflow) (1.35.0)\n",
      "Requirement already satisfied: google-auth-oauthlib<0.5,>=0.4.1 in /usr/local/lib/python3.7/dist-packages (from tensorboard<2.9,>=2.8->tensorflow) (0.4.6)\n",
      "Requirement already satisfied: tensorboard-plugin-wit>=1.6.0 in /usr/local/lib/python3.7/dist-packages (from tensorboard<2.9,>=2.8->tensorflow) (1.8.1)\n",
      "Requirement already satisfied: cachetools<5.0,>=2.0.0 in /usr/local/lib/python3.7/dist-packages (from google-auth<3,>=1.6.3->tensorboard<2.9,>=2.8->tensorflow) (4.2.4)\n",
      "Requirement already satisfied: pyasn1-modules>=0.2.1 in /usr/local/lib/python3.7/dist-packages (from google-auth<3,>=1.6.3->tensorboard<2.9,>=2.8->tensorflow) (0.2.8)\n",
      "Requirement already satisfied: rsa<5,>=3.1.4 in /usr/local/lib/python3.7/dist-packages (from google-auth<3,>=1.6.3->tensorboard<2.9,>=2.8->tensorflow) (4.8)\n",
      "Requirement already satisfied: requests-oauthlib>=0.7.0 in /usr/local/lib/python3.7/dist-packages (from google-auth-oauthlib<0.5,>=0.4.1->tensorboard<2.9,>=2.8->tensorflow) (1.3.1)\n",
      "Requirement already satisfied: importlib-metadata>=4.4 in /usr/local/lib/python3.7/dist-packages (from markdown>=2.6.8->tensorboard<2.9,>=2.8->tensorflow) (4.11.0)\n",
      "Requirement already satisfied: zipp>=0.5 in /usr/local/lib/python3.7/dist-packages (from importlib-metadata>=4.4->markdown>=2.6.8->tensorboard<2.9,>=2.8->tensorflow) (3.7.0)\n",
      "Requirement already satisfied: pyasn1<0.5.0,>=0.4.6 in /usr/local/lib/python3.7/dist-packages (from pyasn1-modules>=0.2.1->google-auth<3,>=1.6.3->tensorboard<2.9,>=2.8->tensorflow) (0.4.8)\n",
      "Requirement already satisfied: certifi>=2017.4.17 in /usr/local/lib/python3.7/dist-packages (from requests<3,>=2.21.0->tensorboard<2.9,>=2.8->tensorflow) (2021.10.8)\n",
      "Requirement already satisfied: urllib3<1.27,>=1.21.1 in /usr/local/lib/python3.7/dist-packages (from requests<3,>=2.21.0->tensorboard<2.9,>=2.8->tensorflow) (1.24.3)\n",
      "Requirement already satisfied: idna<4,>=2.5 in /usr/local/lib/python3.7/dist-packages (from requests<3,>=2.21.0->tensorboard<2.9,>=2.8->tensorflow) (2.10)\n",
      "Requirement already satisfied: charset-normalizer~=2.0.0 in /usr/local/lib/python3.7/dist-packages (from requests<3,>=2.21.0->tensorboard<2.9,>=2.8->tensorflow) (2.0.11)\n",
      "Requirement already satisfied: oauthlib>=3.0.0 in /usr/local/lib/python3.7/dist-packages (from requests-oauthlib>=0.7.0->google-auth-oauthlib<0.5,>=0.4.1->tensorboard<2.9,>=2.8->tensorflow) (3.2.0)\n"
     ]
    }
   ],
   "source": [
    "! pip install tensorflow"
   ]
  },
  {
   "cell_type": "code",
   "execution_count": null,
   "metadata": {
    "id": "Tc62bhAfb1I-"
   },
   "outputs": [],
   "source": [
    "import tensorflow as tf"
   ]
  },
  {
   "cell_type": "code",
   "execution_count": null,
   "metadata": {
    "colab": {
     "base_uri": "https://localhost:8080/"
    },
    "id": "waBqfww9TPDu",
    "outputId": "61906274-ec51-4779-d410-5312b40173df"
   },
   "outputs": [
    {
     "name": "stdout",
     "output_type": "stream",
     "text": [
      "Model: \"sequential_2\"\n",
      "_________________________________________________________________\n",
      " Layer (type)                Output Shape              Param #   \n",
      "=================================================================\n",
      " gru (GRU)                   (None, 128)               51456     \n",
      "                                                                 \n",
      " dropout (Dropout)           (None, 128)               0         \n",
      "                                                                 \n",
      " dense_2 (Dense)             (None, 1)                 129       \n",
      "                                                                 \n",
      "=================================================================\n",
      "Total params: 51,585\n",
      "Trainable params: 51,585\n",
      "Non-trainable params: 0\n",
      "_________________________________________________________________\n"
     ]
    },
    {
     "name": "stderr",
     "output_type": "stream",
     "text": [
      "/usr/local/lib/python3.7/dist-packages/keras/optimizer_v2/adam.py:105: UserWarning: The `lr` argument is deprecated, use `learning_rate` instead.\n",
      "  super(Adam, self).__init__(name, **kwargs)\n"
     ]
    }
   ],
   "source": [
    "n_features =dataset.shape[1]\n",
    "# define model\n",
    "model3 = Sequential()\n",
    "model3.add(keras.layers.GRU(128, activation='tanh', input_shape=(lookback, n_features)))\n",
    "model3.add(Dropout(0.1801))\n",
    "model3.add(Dense(1))\n",
    "opt = tf.keras.optimizers.Adam(lr=0.0114)\n",
    "model3.compile(optimizer = opt, loss='mse', metrics=[\"mae\"])\n",
    "model3.summary()\n"
   ]
  },
  {
   "cell_type": "markdown",
   "metadata": {
    "id": "tHZmNEABTPDu"
   },
   "source": [
    "### (i.) Fitting the model"
   ]
  },
  {
   "cell_type": "code",
   "execution_count": null,
   "metadata": {
    "colab": {
     "base_uri": "https://localhost:8080/"
    },
    "id": "hw9w_VaRTPDu",
    "outputId": "6ce96064-67d3-4d95-b1e2-4b05eafdc227"
   },
   "outputs": [
    {
     "name": "stdout",
     "output_type": "stream",
     "text": [
      "> Compilation Time :  84.02622437477112\n"
     ]
    }
   ],
   "source": [
    "n_epochs = 150\n",
    "valid_score = 0.2\n",
    "start = time.time()\n",
    "result3 = model3.fit(xtrain,ytrain,batch_size=200,epochs=n_epochs,validation_split=valid_score, verbose = 0)\n",
    "model3.reset_states()\n",
    "print(\"> Compilation Time : \", time.time() - start)"
   ]
  },
  {
   "cell_type": "code",
   "execution_count": null,
   "metadata": {
    "colab": {
     "base_uri": "https://localhost:8080/",
     "height": 270
    },
    "id": "zfETp_7hTPDu",
    "outputId": "e9fa2418-70a3-41a6-e621-9c6826704316"
   },
   "outputs": [
    {
     "data": {
      "text/html": [
       "\n",
       "  <div id=\"df-50fd61aa-3219-4e58-babf-fbb39e392dd5\">\n",
       "    <div class=\"colab-df-container\">\n",
       "      <div>\n",
       "<style scoped>\n",
       "    .dataframe tbody tr th:only-of-type {\n",
       "        vertical-align: middle;\n",
       "    }\n",
       "\n",
       "    .dataframe tbody tr th {\n",
       "        vertical-align: top;\n",
       "    }\n",
       "\n",
       "    .dataframe thead th {\n",
       "        text-align: right;\n",
       "    }\n",
       "</style>\n",
       "<table border=\"1\" class=\"dataframe\">\n",
       "  <thead>\n",
       "    <tr style=\"text-align: right;\">\n",
       "      <th></th>\n",
       "      <th>loss</th>\n",
       "      <th>mae</th>\n",
       "      <th>val_loss</th>\n",
       "      <th>val_mae</th>\n",
       "    </tr>\n",
       "  </thead>\n",
       "  <tbody>\n",
       "    <tr>\n",
       "      <th>145</th>\n",
       "      <td>0.000727</td>\n",
       "      <td>0.017798</td>\n",
       "      <td>0.000623</td>\n",
       "      <td>0.020427</td>\n",
       "    </tr>\n",
       "    <tr>\n",
       "      <th>146</th>\n",
       "      <td>0.000711</td>\n",
       "      <td>0.017599</td>\n",
       "      <td>0.000293</td>\n",
       "      <td>0.014006</td>\n",
       "    </tr>\n",
       "    <tr>\n",
       "      <th>147</th>\n",
       "      <td>0.000705</td>\n",
       "      <td>0.017830</td>\n",
       "      <td>0.000247</td>\n",
       "      <td>0.012822</td>\n",
       "    </tr>\n",
       "    <tr>\n",
       "      <th>148</th>\n",
       "      <td>0.000783</td>\n",
       "      <td>0.019061</td>\n",
       "      <td>0.000559</td>\n",
       "      <td>0.019260</td>\n",
       "    </tr>\n",
       "    <tr>\n",
       "      <th>149</th>\n",
       "      <td>0.000703</td>\n",
       "      <td>0.017705</td>\n",
       "      <td>0.000364</td>\n",
       "      <td>0.015228</td>\n",
       "    </tr>\n",
       "  </tbody>\n",
       "</table>\n",
       "</div>\n",
       "      <button class=\"colab-df-convert\" onclick=\"convertToInteractive('df-50fd61aa-3219-4e58-babf-fbb39e392dd5')\"\n",
       "              title=\"Convert this dataframe to an interactive table.\"\n",
       "              style=\"display:none;\">\n",
       "        \n",
       "  <svg xmlns=\"http://www.w3.org/2000/svg\" height=\"24px\"viewBox=\"0 0 24 24\"\n",
       "       width=\"24px\">\n",
       "    <path d=\"M0 0h24v24H0V0z\" fill=\"none\"/>\n",
       "    <path d=\"M18.56 5.44l.94 2.06.94-2.06 2.06-.94-2.06-.94-.94-2.06-.94 2.06-2.06.94zm-11 1L8.5 8.5l.94-2.06 2.06-.94-2.06-.94L8.5 2.5l-.94 2.06-2.06.94zm10 10l.94 2.06.94-2.06 2.06-.94-2.06-.94-.94-2.06-.94 2.06-2.06.94z\"/><path d=\"M17.41 7.96l-1.37-1.37c-.4-.4-.92-.59-1.43-.59-.52 0-1.04.2-1.43.59L10.3 9.45l-7.72 7.72c-.78.78-.78 2.05 0 2.83L4 21.41c.39.39.9.59 1.41.59.51 0 1.02-.2 1.41-.59l7.78-7.78 2.81-2.81c.8-.78.8-2.07 0-2.86zM5.41 20L4 18.59l7.72-7.72 1.47 1.35L5.41 20z\"/>\n",
       "  </svg>\n",
       "      </button>\n",
       "      \n",
       "  <style>\n",
       "    .colab-df-container {\n",
       "      display:flex;\n",
       "      flex-wrap:wrap;\n",
       "      gap: 12px;\n",
       "    }\n",
       "\n",
       "    .colab-df-convert {\n",
       "      background-color: #E8F0FE;\n",
       "      border: none;\n",
       "      border-radius: 50%;\n",
       "      cursor: pointer;\n",
       "      display: none;\n",
       "      fill: #1967D2;\n",
       "      height: 32px;\n",
       "      padding: 0 0 0 0;\n",
       "      width: 32px;\n",
       "    }\n",
       "\n",
       "    .colab-df-convert:hover {\n",
       "      background-color: #E2EBFA;\n",
       "      box-shadow: 0px 1px 2px rgba(60, 64, 67, 0.3), 0px 1px 3px 1px rgba(60, 64, 67, 0.15);\n",
       "      fill: #174EA6;\n",
       "    }\n",
       "\n",
       "    [theme=dark] .colab-df-convert {\n",
       "      background-color: #3B4455;\n",
       "      fill: #D2E3FC;\n",
       "    }\n",
       "\n",
       "    [theme=dark] .colab-df-convert:hover {\n",
       "      background-color: #434B5C;\n",
       "      box-shadow: 0px 1px 3px 1px rgba(0, 0, 0, 0.15);\n",
       "      filter: drop-shadow(0px 1px 2px rgba(0, 0, 0, 0.3));\n",
       "      fill: #FFFFFF;\n",
       "    }\n",
       "  </style>\n",
       "\n",
       "      <script>\n",
       "        const buttonEl =\n",
       "          document.querySelector('#df-50fd61aa-3219-4e58-babf-fbb39e392dd5 button.colab-df-convert');\n",
       "        buttonEl.style.display =\n",
       "          google.colab.kernel.accessAllowed ? 'block' : 'none';\n",
       "\n",
       "        async function convertToInteractive(key) {\n",
       "          const element = document.querySelector('#df-50fd61aa-3219-4e58-babf-fbb39e392dd5');\n",
       "          const dataTable =\n",
       "            await google.colab.kernel.invokeFunction('convertToInteractive',\n",
       "                                                     [key], {});\n",
       "          if (!dataTable) return;\n",
       "\n",
       "          const docLinkHtml = 'Like what you see? Visit the ' +\n",
       "            '<a target=\"_blank\" href=https://colab.research.google.com/notebooks/data_table.ipynb>data table notebook</a>'\n",
       "            + ' to learn more about interactive tables.';\n",
       "          element.innerHTML = '';\n",
       "          dataTable['output_type'] = 'display_data';\n",
       "          await google.colab.output.renderOutput(dataTable, element);\n",
       "          const docLink = document.createElement('div');\n",
       "          docLink.innerHTML = docLinkHtml;\n",
       "          element.appendChild(docLink);\n",
       "        }\n",
       "      </script>\n",
       "    </div>\n",
       "  </div>\n",
       "  "
      ],
      "text/plain": [
       "         loss       mae  val_loss   val_mae\n",
       "145  0.000727  0.017798  0.000623  0.020427\n",
       "146  0.000711  0.017599  0.000293  0.014006\n",
       "147  0.000705  0.017830  0.000247  0.012822\n",
       "148  0.000783  0.019061  0.000559  0.019260\n",
       "149  0.000703  0.017705  0.000364  0.015228"
      ]
     },
     "execution_count": 53,
     "metadata": {},
     "output_type": "execute_result"
    }
   ],
   "source": [
    "df3 = pd.DataFrame(result3.history)\n",
    "df3.tail()"
   ]
  },
  {
   "cell_type": "markdown",
   "metadata": {
    "id": "0CFz-HlMTPDu"
   },
   "source": [
    " "
   ]
  },
  {
   "cell_type": "code",
   "execution_count": null,
   "metadata": {
    "colab": {
     "base_uri": "https://localhost:8080/",
     "height": 110
    },
    "id": "Lnip8_ZcTPDv",
    "outputId": "d590eaaf-28d9-4a13-e2a2-543906591129"
   },
   "outputs": [
    {
     "name": "stderr",
     "output_type": "stream",
     "text": [
      "The PostScript backend does not support transparency; partially transparent artists will be rendered opaque.\n",
      "The PostScript backend does not support transparency; partially transparent artists will be rendered opaque.\n"
     ]
    },
    {
     "name": "stdout",
     "output_type": "stream",
     "text": [
      "\n"
     ]
    },
    {
     "data": {
      "image/png": "[encoded data removed]",
      "text/plain": [
       "<Figure size 648x360 with 1 Axes>"
      ]
     },
     "metadata": {
      "needs_background": "light"
     },
     "output_type": "display_data"
    }
   ],
   "source": [
    "print('')\n",
    "plt.figure(figsize=(9,5))\n",
    "plt.plot(df3['loss'], label ='Training loss (MSE)', color = 'blue')\n",
    "plt.plot(df3['val_loss'], label='Validation loss (MSE)', color = 'orange')\n",
    "plt.xlabel('Mini-batch', fontsize=13)\n",
    "plt.ylabel('Loss', fontsize=13)\n",
    "plt.legend(fontsize=13)\n",
    "plt.savefig('GRU1_error.eps', format='eps', dpi=1000)\n",
    "plt.show()"
   ]
  },
  {
   "cell_type": "markdown",
   "metadata": {
    "id": "Vild8m2PTPDv"
   },
   "source": [
    "### (ii.) Predictions"
   ]
  },
  {
   "cell_type": "code",
   "execution_count": null,
   "metadata": {
    "collapsed": true,
    "id": "JMxVcD6TTPDw"
   },
   "outputs": [],
   "source": [
    "preds3 = model3.predict(xtest)"
   ]
  },
  {
   "cell_type": "markdown",
   "metadata": {
    "id": "5mljvxjPTPDw"
   },
   "source": [
    "  "
   ]
  },
  {
   "cell_type": "code",
   "execution_count": null,
   "metadata": {
    "colab": {
     "base_uri": "https://localhost:8080/",
     "height": 73
    },
    "id": "4Y08lcOnTPDw",
    "outputId": "6a280120-6181-48d8-dafc-8d51363fe91c"
   },
   "outputs": [
    {
     "name": "stdout",
     "output_type": "stream",
     "text": [
      "\n"
     ]
    },
    {
     "data": {
      "image/png": "[encoded data removed]",
      "text/plain": [
       "<Figure size 720x360 with 1 Axes>"
      ]
     },
     "metadata": {
      "needs_background": "light"
     },
     "output_type": "display_data"
    }
   ],
   "source": [
    "print('')\n",
    "plt.figure(figsize=(10,5))\n",
    "plt.plot(ytest, label=\"Actual Price\", color = 'blue')\n",
    "plt.plot(preds3, label=\"GRU\", color = 'red')\n",
    "plt.xlabel('Time (days)', fontsize=13)\n",
    "plt.ylabel('Stock Price', fontsize=13)\n",
    "plt.legend(fontsize=13)\n",
    "plt.show()"
   ]
  },
  {
   "cell_type": "code",
   "execution_count": null,
   "metadata": {
    "collapsed": true,
    "id": "wnEXwv-6TPDw"
   },
   "outputs": [],
   "source": [
    "real_pred3 = scaler2.inverse_transform(preds3)"
   ]
  },
  {
   "cell_type": "code",
   "execution_count": null,
   "metadata": {
    "id": "YkoR1_tEw-hz"
   },
   "outputs": [],
   "source": [
    "ytest=ytest.reshape(-1, 1)\n",
    "actuals = scaler2.inverse_transform(ytest)"
   ]
  },
  {
   "cell_type": "markdown",
   "metadata": {
    "id": "91e1W1nITPDx"
   },
   "source": [
    "#### Plot of Actual Stock Prices"
   ]
  },
  {
   "cell_type": "code",
   "execution_count": null,
   "metadata": {
    "colab": {
     "base_uri": "https://localhost:8080/",
     "height": 110
    },
    "id": "Jx7wyumeTPDx",
    "outputId": "bac5aa58-6798-4a66-b7f0-d2b0f5492eea"
   },
   "outputs": [
    {
     "name": "stderr",
     "output_type": "stream",
     "text": [
      "The PostScript backend does not support transparency; partially transparent artists will be rendered opaque.\n",
      "The PostScript backend does not support transparency; partially transparent artists will be rendered opaque.\n"
     ]
    },
    {
     "name": "stdout",
     "output_type": "stream",
     "text": [
      "\n"
     ]
    },
    {
     "data": {
      "image/png": "[encoded data removed]",
      "text/plain": [
       "<Figure size 720x360 with 1 Axes>"
      ]
     },
     "metadata": {
      "needs_background": "light"
     },
     "output_type": "display_data"
    }
   ],
   "source": [
    "print('')\n",
    "plt.figure(figsize=(10,5))\n",
    "plt.plot(actuals, label=\"Actual Stock prices\", color = 'blue')\n",
    "plt.plot(real_pred3, label=\"GRU\", color = 'red')\n",
    "plt.xlabel('Time (days)', fontsize=13)\n",
    "plt.ylabel('Stock Price', fontsize=13)\n",
    "plt.legend(fontsize=13)\n",
    "plt.savefig('GRU_model1.eps', format='eps', dpi=1000)\n",
    "plt.show()"
   ]
  },
  {
   "cell_type": "code",
   "execution_count": null,
   "metadata": {
    "colab": {
     "base_uri": "https://localhost:8080/",
     "height": 54
    },
    "id": "sqbIfmvPTPDx",
    "outputId": "8800ec7d-b331-4d15-da9e-177f3b6671e7"
   },
   "outputs": [
    {
     "data": {
      "image/png": "[encoded data removed]",
      "text/plain": [
       "<Figure size 720x360 with 1 Axes>"
      ]
     },
     "metadata": {
      "needs_background": "light"
     },
     "output_type": "display_data"
    }
   ],
   "source": [
    "plt.figure(figsize=(10,5))\n",
    "plt.plot(actuals[300:], label=\"Actual Price\", color = 'blue')\n",
    "plt.plot(real_pred3[300:], label=\"GRU\", color = 'red')\n",
    "plt.xlabel('Time (days)', fontsize=13)\n",
    "plt.ylabel('Stock Price', fontsize=13)\n",
    "plt.legend(fontsize=13)\n",
    "plt.show()"
   ]
  },
  {
   "cell_type": "markdown",
   "metadata": {
    "id": "UzG9pk1TTPDx"
   },
   "source": [
    "### (iii.) GRU Model MSE"
   ]
  },
  {
   "cell_type": "code",
   "execution_count": null,
   "metadata": {
    "colab": {
     "base_uri": "https://localhost:8080/"
    },
    "id": "KnhbaWuLTPDy",
    "outputId": "331309f5-6fa5-4cc5-9ed0-35035ea152ad"
   },
   "outputs": [
    {
     "name": "stdout",
     "output_type": "stream",
     "text": [
      "The the mean squared error committed by the GRU model is  6.078387491452664e-05\n",
      "The squareroot of the mean squared error committed by the GRU model is  0.007796401407991167\n"
     ]
    }
   ],
   "source": [
    "print('The the mean squared error committed by the GRU model is ', mean_squared_error(actuals,real_pred3))\n",
    "print('The squareroot of the mean squared error committed by the GRU model is ', np.sqrt(mean_squared_error(actuals,real_pred3)))"
   ]
  },
  {
   "cell_type": "markdown",
   "metadata": {
    "id": "oR2vQawCTPDz"
   },
   "source": [
    "### (iv.) GRU Model MAPE"
   ]
  },
  {
   "cell_type": "code",
   "execution_count": null,
   "metadata": {
    "id": "GGnzjdywzOQB"
   },
   "outputs": [],
   "source": [
    "def mean_absolute_percentage_error(y_true, y_pred): \n",
    "    y_true, y_pred = np.array(y_true), np.array(y_pred)\n",
    "    return np.mean(np.abs((y_true - y_pred) / y_pred)) * 100"
   ]
  },
  {
   "cell_type": "code",
   "execution_count": null,
   "metadata": {
    "colab": {
     "base_uri": "https://localhost:8080/"
    },
    "id": "Poa30QLQTPDz",
    "outputId": "08cb32a3-bb10-4a1c-8169-b4bde6dc46a9"
   },
   "outputs": [
    {
     "name": "stdout",
     "output_type": "stream",
     "text": [
      "The the mean absolute percentage error committed by the GRU model is:  0.5762066674594333\n"
     ]
    }
   ],
   "source": [
    "print('The the mean absolute percentage error committed by the GRU model is: ', mean_absolute_percentage_error(actuals,real_pred3))"
   ]
  },
  {
   "cell_type": "markdown",
   "metadata": {
    "id": "FCSSjJQpTPDz"
   },
   "source": [
    " ### (v.) GRU MAE"
   ]
  },
  {
   "cell_type": "code",
   "execution_count": null,
   "metadata": {
    "colab": {
     "base_uri": "https://localhost:8080/"
    },
    "id": "EoHgeWgtTPD0",
    "outputId": "5da80aba-091a-4720-9251-cb5ed8388357"
   },
   "outputs": [
    {
     "name": "stdout",
     "output_type": "stream",
     "text": [
      "The the mean absolute error committed by the standard RNN model is:  0.006545413017913936\n"
     ]
    }
   ],
   "source": [
    "print('The the mean absolute error committed by the standard RNN model is: ', mean_absolute_error(actuals,real_pred3))"
   ]
  },
  {
   "cell_type": "markdown",
   "metadata": {
    "id": "stEdHxsqTPD1"
   },
   "source": [
    " "
   ]
  },
  {
   "cell_type": "markdown",
   "metadata": {
    "id": "qDMrG21WTPD1"
   },
   "source": [
    "## (D.) Combined Models"
   ]
  },
  {
   "cell_type": "markdown",
   "metadata": {
    "id": "DT-qQW9BTPD2"
   },
   "source": [
    "### Predicted Prices"
   ]
  },
  {
   "cell_type": "code",
   "execution_count": null,
   "metadata": {
    "colab": {
     "base_uri": "https://localhost:8080/",
     "height": 287
    },
    "id": "Srnmdyc9TPD2",
    "outputId": "ee8f04fa-3d9b-463c-ad2d-c022294790bd"
   },
   "outputs": [
    {
     "data": {
      "text/html": [
       "\n",
       "  <div id=\"df-eacd1298-dfa0-4af1-b84a-6bf53cdefa13\">\n",
       "    <div class=\"colab-df-container\">\n",
       "      <div>\n",
       "<style scoped>\n",
       "    .dataframe tbody tr th:only-of-type {\n",
       "        vertical-align: middle;\n",
       "    }\n",
       "\n",
       "    .dataframe tbody tr th {\n",
       "        vertical-align: top;\n",
       "    }\n",
       "\n",
       "    .dataframe thead th {\n",
       "        text-align: right;\n",
       "    }\n",
       "</style>\n",
       "<table border=\"1\" class=\"dataframe\">\n",
       "  <thead>\n",
       "    <tr style=\"text-align: right;\">\n",
       "      <th></th>\n",
       "      <th>RNN</th>\n",
       "      <th>LSTM</th>\n",
       "      <th>GRU</th>\n",
       "      <th>Actual Price</th>\n",
       "    </tr>\n",
       "  </thead>\n",
       "  <tbody>\n",
       "    <tr>\n",
       "      <th>0</th>\n",
       "      <td>1.177839</td>\n",
       "      <td>1.171009</td>\n",
       "      <td>1.177766</td>\n",
       "      <td>1.163551</td>\n",
       "    </tr>\n",
       "    <tr>\n",
       "      <th>1</th>\n",
       "      <td>1.166496</td>\n",
       "      <td>1.163678</td>\n",
       "      <td>1.170140</td>\n",
       "      <td>1.160359</td>\n",
       "    </tr>\n",
       "    <tr>\n",
       "      <th>2</th>\n",
       "      <td>1.163305</td>\n",
       "      <td>1.158614</td>\n",
       "      <td>1.166112</td>\n",
       "      <td>1.157613</td>\n",
       "    </tr>\n",
       "    <tr>\n",
       "      <th>3</th>\n",
       "      <td>1.159925</td>\n",
       "      <td>1.154893</td>\n",
       "      <td>1.162414</td>\n",
       "      <td>1.154894</td>\n",
       "    </tr>\n",
       "    <tr>\n",
       "      <th>4</th>\n",
       "      <td>1.158867</td>\n",
       "      <td>1.152882</td>\n",
       "      <td>1.160970</td>\n",
       "      <td>1.147577</td>\n",
       "    </tr>\n",
       "  </tbody>\n",
       "</table>\n",
       "</div>\n",
       "      <button class=\"colab-df-convert\" onclick=\"convertToInteractive('df-eacd1298-dfa0-4af1-b84a-6bf53cdefa13')\"\n",
       "              title=\"Convert this dataframe to an interactive table.\"\n",
       "              style=\"display:none;\">\n",
       "        \n",
       "  <svg xmlns=\"http://www.w3.org/2000/svg\" height=\"24px\"viewBox=\"0 0 24 24\"\n",
       "       width=\"24px\">\n",
       "    <path d=\"M0 0h24v24H0V0z\" fill=\"none\"/>\n",
       "    <path d=\"M18.56 5.44l.94 2.06.94-2.06 2.06-.94-2.06-.94-.94-2.06-.94 2.06-2.06.94zm-11 1L8.5 8.5l.94-2.06 2.06-.94-2.06-.94L8.5 2.5l-.94 2.06-2.06.94zm10 10l.94 2.06.94-2.06 2.06-.94-2.06-.94-.94-2.06-.94 2.06-2.06.94z\"/><path d=\"M17.41 7.96l-1.37-1.37c-.4-.4-.92-.59-1.43-.59-.52 0-1.04.2-1.43.59L10.3 9.45l-7.72 7.72c-.78.78-.78 2.05 0 2.83L4 21.41c.39.39.9.59 1.41.59.51 0 1.02-.2 1.41-.59l7.78-7.78 2.81-2.81c.8-.78.8-2.07 0-2.86zM5.41 20L4 18.59l7.72-7.72 1.47 1.35L5.41 20z\"/>\n",
       "  </svg>\n",
       "      </button>\n",
       "      \n",
       "  <style>\n",
       "    .colab-df-container {\n",
       "      display:flex;\n",
       "      flex-wrap:wrap;\n",
       "      gap: 12px;\n",
       "    }\n",
       "\n",
       "    .colab-df-convert {\n",
       "      background-color: #E8F0FE;\n",
       "      border: none;\n",
       "      border-radius: 50%;\n",
       "      cursor: pointer;\n",
       "      display: none;\n",
       "      fill: #1967D2;\n",
       "      height: 32px;\n",
       "      padding: 0 0 0 0;\n",
       "      width: 32px;\n",
       "    }\n",
       "\n",
       "    .colab-df-convert:hover {\n",
       "      background-color: #E2EBFA;\n",
       "      box-shadow: 0px 1px 2px rgba(60, 64, 67, 0.3), 0px 1px 3px 1px rgba(60, 64, 67, 0.15);\n",
       "      fill: #174EA6;\n",
       "    }\n",
       "\n",
       "    [theme=dark] .colab-df-convert {\n",
       "      background-color: #3B4455;\n",
       "      fill: #D2E3FC;\n",
       "    }\n",
       "\n",
       "    [theme=dark] .colab-df-convert:hover {\n",
       "      background-color: #434B5C;\n",
       "      box-shadow: 0px 1px 3px 1px rgba(0, 0, 0, 0.15);\n",
       "      filter: drop-shadow(0px 1px 2px rgba(0, 0, 0, 0.3));\n",
       "      fill: #FFFFFF;\n",
       "    }\n",
       "  </style>\n",
       "\n",
       "      <script>\n",
       "        const buttonEl =\n",
       "          document.querySelector('#df-eacd1298-dfa0-4af1-b84a-6bf53cdefa13 button.colab-df-convert');\n",
       "        buttonEl.style.display =\n",
       "          google.colab.kernel.accessAllowed ? 'block' : 'none';\n",
       "\n",
       "        async function convertToInteractive(key) {\n",
       "          const element = document.querySelector('#df-eacd1298-dfa0-4af1-b84a-6bf53cdefa13');\n",
       "          const dataTable =\n",
       "            await google.colab.kernel.invokeFunction('convertToInteractive',\n",
       "                                                     [key], {});\n",
       "          if (!dataTable) return;\n",
       "\n",
       "          const docLinkHtml = 'Like what you see? Visit the ' +\n",
       "            '<a target=\"_blank\" href=https://colab.research.google.com/notebooks/data_table.ipynb>data table notebook</a>'\n",
       "            + ' to learn more about interactive tables.';\n",
       "          element.innerHTML = '';\n",
       "          dataTable['output_type'] = 'display_data';\n",
       "          await google.colab.output.renderOutput(dataTable, element);\n",
       "          const docLink = document.createElement('div');\n",
       "          docLink.innerHTML = docLinkHtml;\n",
       "          element.appendChild(docLink);\n",
       "        }\n",
       "      </script>\n",
       "    </div>\n",
       "  </div>\n",
       "  "
      ],
      "text/plain": [
       "        RNN      LSTM       GRU  Actual Price\n",
       "0  1.177839  1.171009  1.177766      1.163551\n",
       "1  1.166496  1.163678  1.170140      1.160359\n",
       "2  1.163305  1.158614  1.166112      1.157613\n",
       "3  1.159925  1.154893  1.162414      1.154894\n",
       "4  1.158867  1.152882  1.160970      1.147577"
      ]
     },
     "execution_count": 65,
     "metadata": {},
     "output_type": "execute_result"
    }
   ],
   "source": [
    "Pred_Data=pd.DataFrame({'RNN':real_pred1[:,0],'LSTM':real_pred2[:,0],'GRU':real_pred3[:,0], 'Actual Price':actuals[:,0]})\n",
    "Pred_Data.head()"
   ]
  },
  {
   "cell_type": "code",
   "execution_count": null,
   "metadata": {
    "collapsed": true,
    "id": "6ewRMMVbTPD2"
   },
   "outputs": [],
   "source": [
    "#saving dataset of predicted prices\n",
    "Pred_Data.to_csv('Pred_Data1.csv', sep = ',', header = True)"
   ]
  },
  {
   "cell_type": "markdown",
   "metadata": {
    "id": "Nu7AC_jGTPD2"
   },
   "source": [
    "### Combined Plots"
   ]
  },
  {
   "cell_type": "code",
   "execution_count": null,
   "metadata": {
    "colab": {
     "base_uri": "https://localhost:8080/",
     "height": 92
    },
    "id": "YnuxhYQ6TPD2",
    "outputId": "2be931fe-264e-4f34-be5d-9338cad70ca9"
   },
   "outputs": [
    {
     "name": "stderr",
     "output_type": "stream",
     "text": [
      "The PostScript backend does not support transparency; partially transparent artists will be rendered opaque.\n",
      "The PostScript backend does not support transparency; partially transparent artists will be rendered opaque.\n"
     ]
    },
    {
     "data": {
      "image/png": "[encoded data removed]",
      "text/plain": [
       "<Figure size 720x360 with 1 Axes>"
      ]
     },
     "metadata": {
      "needs_background": "light"
     },
     "output_type": "display_data"
    }
   ],
   "source": [
    "plt.figure(figsize=(10,5))\n",
    "plt.plot(Pred_Data['RNN'], color = 'red', label = 'RNN')\n",
    "plt.plot(Pred_Data['LSTM'], color = 'green', label = 'LSTM')\n",
    "plt.plot(Pred_Data['GRU'], color = 'orange', label = 'GRU')\n",
    "plt.plot(actuals, color = 'blue', label = 'Actual Price')\n",
    "plt.xlabel('Time (days)', fontsize=13)\n",
    "plt.ylabel('Nyse Stock Price', fontsize=13)\n",
    "plt.legend(fontsize=13)\n",
    "plt.savefig('Combined1.eps', format='eps', dpi=1000)\n",
    "plt.show()"
   ]
  }
 ],
 "metadata": {
  "colab": {
   "collapsed_sections": [
    "-6_ff6pATPDs",
    "Pm_lPcl2TPDs",
    "WGoLWmr_TPDt",
    "tHZmNEABTPDu",
    "91e1W1nITPDx",
    "UzG9pk1TTPDx",
    "oR2vQawCTPDz",
    "FCSSjJQpTPDz",
    "DT-qQW9BTPD2",
    "Nu7AC_jGTPD2",
    "POfZjERPTPD3",
    "ZWk8K9iITPD4",
    "mZHcf6oTTPD4"
   ],
   "name": "EUDUSD RATE PREDICTION WITH_LSTM_RNN_GRU.ipynb",
   "provenance": []
  },
  "kernelspec": {
   "display_name": "Python 3 (ipykernel)",
   "language": "python",
   "name": "python3"
  },
  "language_info": {
   "codemirror_mode": {
    "name": "ipython",
    "version": 3
   },
   "file_extension": ".py",
   "mimetype": "text/x-python",
   "name": "python",
   "nbconvert_exporter": "python",
   "pygments_lexer": "ipython3",
   "version": "3.11.3"
  }
 },
 "nbformat": 4,
 "nbformat_minor": 1
}
